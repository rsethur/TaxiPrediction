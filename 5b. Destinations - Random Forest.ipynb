{
 "cells": [
  {
   "cell_type": "code",
   "execution_count": 1,
   "metadata": {
    "collapsed": true
   },
   "outputs": [],
   "source": [
    "%matplotlib inline\n",
    "\n",
    "import numpy as np\n",
    "import scipy as sp\n",
    "import matplotlib as mpl\n",
    "import matplotlib.cm as cm\n",
    "import matplotlib.pyplot as plt\n",
    "import pandas as pd\n",
    "pd.set_option('display.width', 500)\n",
    "pd.set_option('display.max_columns', 100)\n",
    "pd.set_option('display.notebook_repr_html', True)\n",
    "import seaborn as sns\n",
    "sns.set_style(\"whitegrid\")\n",
    "sns.set_context(\"poster\")\n",
    "from sklearn.grid_search import GridSearchCV\n",
    "from sklearn.cross_validation import train_test_split\n",
    "from sklearn.metrics import confusion_matrix\n",
    "from sklearn.ensemble import RandomForestRegressor\n",
    "from sklearn.pipeline import Pipeline\n",
    "from sklearn.cross_validation import cross_val_score\n",
    "import geohash\n",
    "from sklearn.metrics import mean_squared_error\n",
    "import random\n",
    "import math\n",
    "import datetime\n",
    "import geopy as gp\n",
    "from geopy.distance import vincenty"
   ]
  },
  {
   "cell_type": "markdown",
   "metadata": {},
   "source": [
    "### Goal: Explore the possiblity of predicting a destination (lat/long) based on the pickup location, time & day"
   ]
  },
  {
   "cell_type": "markdown",
   "metadata": {},
   "source": [
    "### Note: Go directly to step 3 if you had performed 1 & 2 earlier"
   ]
  },
  {
   "cell_type": "markdown",
   "metadata": {},
   "source": [
    "## 1. Load the aggregated data from the CSV file"
   ]
  },
  {
   "cell_type": "code",
   "execution_count": 3,
   "metadata": {
    "collapsed": false
   },
   "outputs": [
    {
     "name": "stdout",
     "output_type": "stream",
     "text": [
      "(15285988, 5)\n"
     ]
    }
   ],
   "source": [
    "# Each line is of the format:\n",
    "\n",
    "#pickupGeohash, dropOffGeohash,time_num,day_of_week, count\n",
    "# File is also available here: https://s3.amazonaws.com/testsetu/nyc/final/groupbydestn/singlefile/part-00000\n",
    "names = [\"pickup_geohash\",\"dropoff_geohash\",\"time_num\",\"day_of_week\", \"count\"]\n",
    "df=pd.read_csv(\"./tmplocaldata/final/groupbydestn/part-00000\", header=None, names = names)\n",
    "#df = df.sample(n=10000000,weights=df['count'], replace=True)\n",
    "print df.shape"
   ]
  },
  {
   "cell_type": "markdown",
   "metadata": {},
   "source": [
    "## 2. Feature Extraction"
   ]
  },
  {
   "cell_type": "code",
   "execution_count": 4,
   "metadata": {
    "collapsed": false
   },
   "outputs": [],
   "source": [
    "# Get the longitude and latitude from the geohash\n",
    "def decodegeo(geo, which):\n",
    "    if len(geo) >= 6:\n",
    "        geodecoded = geohash.decode(geo)\n",
    "        return geodecoded[which]\n",
    "    else:\n",
    "        return 0\n",
    "    \n",
    "def further_data_prep(df):\n",
    "  \n",
    "    df['time_sin'] = (df['time_num'] * 2 * math.pi).apply(math.sin)\n",
    "    df['time_cos'] = (df['time_num'] * 2 * math.pi).apply(math.cos)\n",
    "    df['pickup_lat'] = df['pickup_geohash'].apply(lambda geo: decodegeo(geo, 0))\n",
    "    df['pickup_long'] = df['pickup_geohash'].apply(lambda geo: decodegeo(geo, 1))\n",
    "    df['dropoff_lat'] = df['dropoff_geohash'].apply(lambda geo: decodegeo(geo, 0))\n",
    "    df['dropoff_long'] = df['dropoff_geohash'].apply(lambda geo: decodegeo(geo, 1))\n",
    "    \n",
    "    return df"
   ]
  },
  {
   "cell_type": "code",
   "execution_count": 5,
   "metadata": {
    "collapsed": false
   },
   "outputs": [],
   "source": [
    "df = further_data_prep(df)"
   ]
  },
  {
   "cell_type": "code",
   "execution_count": 9,
   "metadata": {
    "collapsed": true
   },
   "outputs": [],
   "source": [
    "df.to_csv(\"./tmplocaldata/final/groupbydestn/pickup_dropoff_aggregated_with_feat_ext.csv\", index=False)"
   ]
  },
  {
   "cell_type": "markdown",
   "metadata": {},
   "source": [
    "## 3. Train-test split"
   ]
  },
  {
   "cell_type": "code",
   "execution_count": 2,
   "metadata": {
    "collapsed": false
   },
   "outputs": [
    {
     "name": "stdout",
     "output_type": "stream",
     "text": [
      "Wall time: 28.3 s\n"
     ]
    }
   ],
   "source": [
    "%time df=pd.read_csv(\"./tmplocaldata/final/groupbydestn/pickup_dropoff_aggregated_with_feat_ext.csv\")"
   ]
  },
  {
   "cell_type": "markdown",
   "metadata": {},
   "source": [
    "#### Rescale longitude in the scale of latitude: so the RMSE error function in the ML algorithm works properly"
   ]
  },
  {
   "cell_type": "code",
   "execution_count": 3,
   "metadata": {
    "collapsed": true
   },
   "outputs": [],
   "source": [
    "df['pickup_long_rescaled'] =  np.interp(df['pickup_long'], [-180,180], [-90,90])\n",
    "df['dropoff_long_rescaled'] =  np.interp(df['dropoff_long'], [-180,180], [-90,90])"
   ]
  },
  {
   "cell_type": "code",
   "execution_count": 4,
   "metadata": {
    "collapsed": false
   },
   "outputs": [
    {
     "data": {
      "text/html": [
       "<div>\n",
       "<table border=\"1\" class=\"dataframe\">\n",
       "  <thead>\n",
       "    <tr style=\"text-align: right;\">\n",
       "      <th></th>\n",
       "      <th>pickup_geohash</th>\n",
       "      <th>dropoff_geohash</th>\n",
       "      <th>time_num</th>\n",
       "      <th>day_of_week</th>\n",
       "      <th>count</th>\n",
       "      <th>time_sin</th>\n",
       "      <th>time_cos</th>\n",
       "      <th>pickup_lat</th>\n",
       "      <th>pickup_long</th>\n",
       "      <th>dropoff_lat</th>\n",
       "      <th>dropoff_long</th>\n",
       "      <th>pickup_long_rescaled</th>\n",
       "      <th>dropoff_long_rescaled</th>\n",
       "    </tr>\n",
       "  </thead>\n",
       "  <tbody>\n",
       "    <tr>\n",
       "      <th>0</th>\n",
       "      <td>dr5rtk</td>\n",
       "      <td>dr5rsj</td>\n",
       "      <td>0.416667</td>\n",
       "      <td>4</td>\n",
       "      <td>2</td>\n",
       "      <td>0.500000</td>\n",
       "      <td>-0.866025</td>\n",
       "      <td>40.718079</td>\n",
       "      <td>-73.943481</td>\n",
       "      <td>40.723572</td>\n",
       "      <td>-73.998413</td>\n",
       "      <td>-36.971741</td>\n",
       "      <td>-36.999207</td>\n",
       "    </tr>\n",
       "    <tr>\n",
       "      <th>1</th>\n",
       "      <td>dr5x0z</td>\n",
       "      <td>dr5xcf</td>\n",
       "      <td>0.683333</td>\n",
       "      <td>0</td>\n",
       "      <td>2</td>\n",
       "      <td>-0.913545</td>\n",
       "      <td>-0.406737</td>\n",
       "      <td>40.646667</td>\n",
       "      <td>-73.789673</td>\n",
       "      <td>40.751038</td>\n",
       "      <td>-73.745728</td>\n",
       "      <td>-36.894836</td>\n",
       "      <td>-36.872864</td>\n",
       "    </tr>\n",
       "    <tr>\n",
       "      <th>2</th>\n",
       "      <td>dr72rd</td>\n",
       "      <td>dr782h</td>\n",
       "      <td>0.650000</td>\n",
       "      <td>3</td>\n",
       "      <td>2</td>\n",
       "      <td>-0.809017</td>\n",
       "      <td>-0.587785</td>\n",
       "      <td>40.838928</td>\n",
       "      <td>-73.844604</td>\n",
       "      <td>40.849915</td>\n",
       "      <td>-73.822632</td>\n",
       "      <td>-36.922302</td>\n",
       "      <td>-36.911316</td>\n",
       "    </tr>\n",
       "    <tr>\n",
       "      <th>3</th>\n",
       "      <td>dr5rvn</td>\n",
       "      <td>dr5rt5</td>\n",
       "      <td>0.083333</td>\n",
       "      <td>2</td>\n",
       "      <td>11</td>\n",
       "      <td>0.500000</td>\n",
       "      <td>0.866025</td>\n",
       "      <td>40.773010</td>\n",
       "      <td>-73.954468</td>\n",
       "      <td>40.712585</td>\n",
       "      <td>-73.954468</td>\n",
       "      <td>-36.977234</td>\n",
       "      <td>-36.977234</td>\n",
       "    </tr>\n",
       "    <tr>\n",
       "      <th>4</th>\n",
       "      <td>dr72jd</td>\n",
       "      <td>dr72m3</td>\n",
       "      <td>0.050000</td>\n",
       "      <td>0</td>\n",
       "      <td>3</td>\n",
       "      <td>0.309017</td>\n",
       "      <td>0.951057</td>\n",
       "      <td>40.794983</td>\n",
       "      <td>-73.932495</td>\n",
       "      <td>40.833435</td>\n",
       "      <td>-73.943481</td>\n",
       "      <td>-36.966248</td>\n",
       "      <td>-36.971741</td>\n",
       "    </tr>\n",
       "  </tbody>\n",
       "</table>\n",
       "</div>"
      ],
      "text/plain": [
       "  pickup_geohash dropoff_geohash  time_num  day_of_week  count  time_sin  time_cos  pickup_lat  pickup_long  dropoff_lat  dropoff_long  pickup_long_rescaled  dropoff_long_rescaled\n",
       "0         dr5rtk          dr5rsj  0.416667            4      2  0.500000 -0.866025   40.718079   -73.943481    40.723572    -73.998413            -36.971741             -36.999207\n",
       "1         dr5x0z          dr5xcf  0.683333            0      2 -0.913545 -0.406737   40.646667   -73.789673    40.751038    -73.745728            -36.894836             -36.872864\n",
       "2         dr72rd          dr782h  0.650000            3      2 -0.809017 -0.587785   40.838928   -73.844604    40.849915    -73.822632            -36.922302             -36.911316\n",
       "3         dr5rvn          dr5rt5  0.083333            2     11  0.500000  0.866025   40.773010   -73.954468    40.712585    -73.954468            -36.977234             -36.977234\n",
       "4         dr72jd          dr72m3  0.050000            0      3  0.309017  0.951057   40.794983   -73.932495    40.833435    -73.943481            -36.966248             -36.971741"
      ]
     },
     "execution_count": 4,
     "metadata": {},
     "output_type": "execute_result"
    }
   ],
   "source": [
    "df.head()"
   ]
  },
  {
   "cell_type": "markdown",
   "metadata": {},
   "source": [
    "#### Perform the train-test split"
   ]
  },
  {
   "cell_type": "code",
   "execution_count": 5,
   "metadata": {
    "collapsed": true
   },
   "outputs": [],
   "source": [
    "# best practice:  random_state=42\n",
    "#trainSetSampleSize = 10000000\n",
    "testSetSize = 2000000\n",
    "testSetPosns = np.random.choice(df.shape[0],testSetSize, replace = False)\n",
    "testSet = df.iloc[testSetPosns]\n",
    "trainSet = df.drop(testSetPosns)"
   ]
  },
  {
   "cell_type": "markdown",
   "metadata": {},
   "source": [
    "#### Weighting (optional): not required as it is not able to produce a better model"
   ]
  },
  {
   "cell_type": "code",
   "execution_count": 45,
   "metadata": {
    "collapsed": true
   },
   "outputs": [],
   "source": [
    "#np.random.choice(a, size=2, replace = False, p=p)\n",
    "totalCount =  trainSet['count'].sum()\n",
    "trainSet[\"weight\"] = trainSet['count']/totalCount"
   ]
  },
  {
   "cell_type": "code",
   "execution_count": 52,
   "metadata": {
    "collapsed": true
   },
   "outputs": [],
   "source": [
    "trainSet = trainSet.sample(n=trainSetSampleSize,weights=trainSet['weight'], replace=True)\n",
    "#trainSet = trainSet.sample(n=trainSetSampleSize,weights=trainSet['count'], replace=True)"
   ]
  },
  {
   "cell_type": "markdown",
   "metadata": {},
   "source": [
    "#### Initialize the train & test sets"
   ]
  },
  {
   "cell_type": "code",
   "execution_count": 6,
   "metadata": {
    "collapsed": true
   },
   "outputs": [],
   "source": [
    "X_train = trainSet[['time_num', 'time_sin', 'time_cos','day_of_week', 'pickup_lat', 'pickup_long_rescaled']]\n",
    "y_train = trainSet[['dropoff_lat', 'dropoff_long_rescaled']]\n",
    "\n",
    "X_test = testSet[['time_num', 'time_sin', 'time_cos','day_of_week', 'pickup_lat', 'pickup_long_rescaled']]\n",
    "y_test = testSet[['dropoff_lat', 'dropoff_long_rescaled']]"
   ]
  },
  {
   "cell_type": "markdown",
   "metadata": {},
   "source": [
    "## 4. Machine learning"
   ]
  },
  {
   "cell_type": "code",
   "execution_count": 7,
   "metadata": {
    "collapsed": true
   },
   "outputs": [],
   "source": [
    "# Funtion for cross-validation over a grid of parameters\n",
    "\n",
    "def cv_optimize(clf, parameters, X, y, n_jobs=1, n_folds=5, score_func=None, verbose=0):\n",
    "    if score_func:\n",
    "        gs = GridSearchCV(clf, param_grid=parameters, cv=n_folds, n_jobs=n_jobs, scoring=score_func, verbose=verbose)\n",
    "    else:\n",
    "        gs = GridSearchCV(clf, param_grid=parameters, n_jobs=n_jobs, cv=n_folds, verbose=verbose)\n",
    "    gs.fit(X, y)\n",
    "    print \"BEST\", gs.best_params_, gs.best_score_, gs.grid_scores_, gs.scorer_\n",
    "    print \"Best score: \", gs.best_score_\n",
    "    best = gs.best_estimator_\n",
    "    return best"
   ]
  },
  {
   "cell_type": "code",
   "execution_count": 8,
   "metadata": {
    "collapsed": true
   },
   "outputs": [],
   "source": [
    "# Create a Random Forest Regression estimator\n",
    "estimator = RandomForestRegressor(n_estimators=20, n_jobs=-1)"
   ]
  },
  {
   "cell_type": "code",
   "execution_count": 26,
   "metadata": {
    "collapsed": false
   },
   "outputs": [
    {
     "name": "stdout",
     "output_type": "stream",
     "text": [
      "Fitting 2 folds for each of 1 candidates, totalling 2 fits\n",
      "[CV] max_features=auto, n_estimators=20, max_depth=20 ................\n",
      "[CV]  max_features=auto, n_estimators=20, max_depth=20, score=0.162738 - 3.2min\n",
      "[CV] max_features=auto, n_estimators=20, max_depth=20 ................\n",
      "[CV]  max_features=auto, n_estimators=20, max_depth=20, score=0.155466 - 3.4min"
     ]
    },
    {
     "name": "stderr",
     "output_type": "stream",
     "text": [
      "[Parallel(n_jobs=1)]: Done   1 jobs       | elapsed:  3.2min\n",
      "[Parallel(n_jobs=1)]: Done   2 out of   2 | elapsed:  6.6min finished\n"
     ]
    },
    {
     "name": "stdout",
     "output_type": "stream",
     "text": [
      "\n",
      "BEST {'max_features': 'auto', 'n_estimators': 20, 'max_depth': 20} 0.159101967745 [mean: 0.15910, std: 0.00364, params: {'max_features': 'auto', 'n_estimators': 20, 'max_depth': 20}] <function _passthrough_scorer at 0x000000001F0627B8>\n",
      "Best score:  0.159101967745\n",
      "Wall time: 13min 41s\n"
     ]
    }
   ],
   "source": [
    "%%time\n",
    "\n",
    "# Define a grid of parameters over which to optimize the random forest\n",
    "# We will figure out which number of trees is optimal\n",
    "parameters = {\"n_estimators\": [20],\n",
    "              \"max_features\": [\"auto\"], # [\"auto\",\"sqrt\",\"log2\"]\n",
    "              \"max_depth\": [20]}\n",
    "best = cv_optimize(estimator, parameters, X_train, y_train, n_folds=5, verbose=1)\n",
    "#best = cv_optimize(estimator, parameters, X_train, y_train, n_folds=2, score_func='mean_squared_error', verbose=3)"
   ]
  },
  {
   "cell_type": "code",
   "execution_count": 27,
   "metadata": {
    "collapsed": false
   },
   "outputs": [
    {
     "name": "stdout",
     "output_type": "stream",
     "text": [
      "RMSE=  0.0817812139499\n"
     ]
    }
   ],
   "source": [
    "#No sampling + rescaled longitude: 20 estimators, 20 depth\n",
    "print \"RMSE= \",np.sqrt(mean_squared_error(best.predict(X_test),y_test))"
   ]
  },
  {
   "cell_type": "markdown",
   "metadata": {},
   "source": [
    "#### Optional step: re-running the above model with more trees, CV folds & depth"
   ]
  },
  {
   "cell_type": "code",
   "execution_count": 14,
   "metadata": {
    "collapsed": false
   },
   "outputs": [
    {
     "name": "stderr",
     "output_type": "stream",
     "text": [
      "[Parallel(n_jobs=1)]: Done   1 jobs       | elapsed: 13.5min\n",
      "[Parallel(n_jobs=1)]: Done   5 out of   5 | elapsed: 67.2min finished\n"
     ]
    },
    {
     "name": "stdout",
     "output_type": "stream",
     "text": [
      "Fitting 5 folds for each of 1 candidates, totalling 5 fits\n",
      "BEST {'max_features': 'auto', 'n_estimators': 50, 'max_depth': 50} -0.00686534862405 [mean: -0.00687, std: 0.00017, params: {'max_features': 'auto', 'n_estimators': 50, 'max_depth': 50}] make_scorer(mean_squared_error, greater_is_better=False)\n",
      "Best score:  -0.00686534862405\n",
      "RMSE=  0.0812417975221\n",
      "Wall time: 1h 24min 52s\n"
     ]
    }
   ],
   "source": [
    "%%time\n",
    "\n",
    "# Define a grid of parameters over which to optimize the random forest\n",
    "# We will figure out which number of trees is optimal\n",
    "parameters = {\"n_estimators\": [50],\n",
    "              \"max_features\": [\"auto\"], # [\"auto\",\"sqrt\",\"log2\"]\n",
    "              \"max_depth\": [50]}\n",
    "best = cv_optimize(estimator, parameters, X_train, y_train, n_folds=5,score_func='mean_squared_error', verbose=1)\n",
    "#best = cv_optimize(estimator, parameters, X_train, y_train, n_folds=2, score_func='mean_squared_error', verbose=3)\n",
    "print \"RMSE= \",np.sqrt(mean_squared_error(best.predict(X_test),y_test))"
   ]
  },
  {
   "cell_type": "code",
   "execution_count": null,
   "metadata": {
    "collapsed": true
   },
   "outputs": [],
   "source": [
    "from sklearn.externals import joblib\n",
    "joblib.dump(clf, './models/dest_model.pkl') "
   ]
  },
  {
   "cell_type": "markdown",
   "metadata": {},
   "source": [
    "## Evaluate results"
   ]
  },
  {
   "cell_type": "code",
   "execution_count": 15,
   "metadata": {
    "collapsed": false
   },
   "outputs": [
    {
     "name": "stdout",
     "output_type": "stream",
     "text": [
      "############# based on standard predict ################\n",
      "R^2 on training data: 0.2708\n",
      "R^2 on test data:     0.1626\n",
      "Wall time: 18min 54s\n"
     ]
    }
   ],
   "source": [
    "%%time\n",
    "\n",
    "# Fit the best Random Forest and calculate R^2 values for training and test sets\n",
    "\n",
    "reg=best.fit(X_train, y_train)\n",
    "training_accuracy = reg.score(X_train, y_train)\n",
    "test_accuracy = reg.score(X_test, y_test)\n",
    "print \"############# based on standard predict ################\"\n",
    "print \"R^2 on training data: %0.4f\" % (training_accuracy)\n",
    "print \"R^2 on test data:     %0.4f\" % (test_accuracy)"
   ]
  },
  {
   "cell_type": "code",
   "execution_count": 16,
   "metadata": {
    "collapsed": false
   },
   "outputs": [
    {
     "name": "stdout",
     "output_type": "stream",
     "text": [
      "RMSE = 0.081 \n",
      "Latitude RMSE =  5.61220921856  miles\n",
      "Longitude RMSE =  8.62165474155  miles\n"
     ]
    }
   ],
   "source": [
    "# Calculate the Root Mean Squared Error\n",
    "rmse = np.sqrt(mean_squared_error(reg.predict(X_test),y_test))\n",
    "print \"RMSE = %0.3f \" % rmse\n",
    "print \"Latitude RMSE = \",rmse*69,\" miles\"\n",
    "scaledbackLongRMSE = np.interp(rmse, [-90,90], [-180,180])\n",
    "print \"Longitude RMSE = \",scaledbackLongRMSE*53,\" miles\""
   ]
  },
  {
   "cell_type": "code",
   "execution_count": 17,
   "metadata": {
    "collapsed": false
   },
   "outputs": [
    {
     "data": {
      "text/plain": [
       "[('pickup_lat', 0.54077211318033069),\n",
       " ('pickup_long_rescaled', 0.29392547858766693),\n",
       " ('day_of_week', 0.051206342269280024),\n",
       " ('time_sin', 0.039954843986436381),\n",
       " ('time_num', 0.039568463398994218),\n",
       " ('time_cos', 0.034572758577291481)]"
      ]
     },
     "execution_count": 17,
     "metadata": {},
     "output_type": "execute_result"
    }
   ],
   "source": [
    "# What are the most important features?\n",
    "import operator\n",
    "dict_feat_imp = dict(zip(list(X_test.columns.values),reg.feature_importances_))\n",
    "\n",
    "sorted_features = sorted(dict_feat_imp.items(), key=operator.itemgetter(1), reverse=True)\n",
    "sorted_features"
   ]
  },
  {
   "cell_type": "code",
   "execution_count": 18,
   "metadata": {
    "collapsed": false
   },
   "outputs": [
    {
     "data": {
      "text/html": [
       "<div>\n",
       "<table border=\"1\" class=\"dataframe\">\n",
       "  <thead>\n",
       "    <tr style=\"text-align: right;\">\n",
       "      <th></th>\n",
       "      <th>pred_dropoff_lat</th>\n",
       "      <th>pred_dropoff_long_rescaled</th>\n",
       "      <th>act_dropoff_lat</th>\n",
       "      <th>act_dropoff_long_rescaled</th>\n",
       "    </tr>\n",
       "  </thead>\n",
       "  <tbody>\n",
       "    <tr>\n",
       "      <th>0</th>\n",
       "      <td>40.836495</td>\n",
       "      <td>-36.947423</td>\n",
       "      <td>40.855408</td>\n",
       "      <td>-36.949768</td>\n",
       "    </tr>\n",
       "    <tr>\n",
       "      <th>1</th>\n",
       "      <td>40.685634</td>\n",
       "      <td>-36.980992</td>\n",
       "      <td>40.619202</td>\n",
       "      <td>-37.004700</td>\n",
       "    </tr>\n",
       "    <tr>\n",
       "      <th>2</th>\n",
       "      <td>40.789750</td>\n",
       "      <td>-36.975287</td>\n",
       "      <td>40.663147</td>\n",
       "      <td>-36.900330</td>\n",
       "    </tr>\n",
       "    <tr>\n",
       "      <th>3</th>\n",
       "      <td>40.778937</td>\n",
       "      <td>-36.972001</td>\n",
       "      <td>40.674133</td>\n",
       "      <td>-36.999207</td>\n",
       "    </tr>\n",
       "    <tr>\n",
       "      <th>4</th>\n",
       "      <td>40.744723</td>\n",
       "      <td>-36.964568</td>\n",
       "      <td>40.701599</td>\n",
       "      <td>-36.911316</td>\n",
       "    </tr>\n",
       "  </tbody>\n",
       "</table>\n",
       "</div>"
      ],
      "text/plain": [
       "   pred_dropoff_lat  pred_dropoff_long_rescaled  act_dropoff_lat  act_dropoff_long_rescaled\n",
       "0         40.836495                  -36.947423        40.855408                 -36.949768\n",
       "1         40.685634                  -36.980992        40.619202                 -37.004700\n",
       "2         40.789750                  -36.975287        40.663147                 -36.900330\n",
       "3         40.778937                  -36.972001        40.674133                 -36.999207\n",
       "4         40.744723                  -36.964568        40.701599                 -36.911316"
      ]
     },
     "execution_count": 18,
     "metadata": {},
     "output_type": "execute_result"
    }
   ],
   "source": [
    "# Show some of the predictions vs actual\n",
    "#actualPredictedDf = pd.DataFrame(np.hstack(y_test, reg.predict(X_test), names=[\"act_dropoff_lat\", \"act_dropoff_lat_rescaled\",\"pred_dropoff_lat\", \"pred_dropoff_lat_rescaled\"])\n",
    "\n",
    "actualPredictedDf = pd.DataFrame(np.hstack((reg.predict(X_test), y_test.values)),columns=[\"pred_dropoff_lat\", \"pred_dropoff_long_rescaled\", \"act_dropoff_lat\", \"act_dropoff_long_rescaled\"])\n",
    "actualPredictedDf.head()"
   ]
  },
  {
   "cell_type": "markdown",
   "metadata": {},
   "source": [
    "#### Scaleback the longitudes to original scale"
   ]
  },
  {
   "cell_type": "code",
   "execution_count": 19,
   "metadata": {
    "collapsed": false
   },
   "outputs": [
    {
     "data": {
      "text/html": [
       "<div>\n",
       "<table border=\"1\" class=\"dataframe\">\n",
       "  <thead>\n",
       "    <tr style=\"text-align: right;\">\n",
       "      <th></th>\n",
       "      <th>pred_dropoff_lat</th>\n",
       "      <th>act_dropoff_lat</th>\n",
       "      <th>pred_dropoff_long</th>\n",
       "      <th>act_dropoff_long</th>\n",
       "    </tr>\n",
       "  </thead>\n",
       "  <tbody>\n",
       "    <tr>\n",
       "      <th>0</th>\n",
       "      <td>40.836495</td>\n",
       "      <td>40.855408</td>\n",
       "      <td>-73.894847</td>\n",
       "      <td>-73.899536</td>\n",
       "    </tr>\n",
       "    <tr>\n",
       "      <th>1</th>\n",
       "      <td>40.685634</td>\n",
       "      <td>40.619202</td>\n",
       "      <td>-73.961985</td>\n",
       "      <td>-74.009399</td>\n",
       "    </tr>\n",
       "    <tr>\n",
       "      <th>2</th>\n",
       "      <td>40.789750</td>\n",
       "      <td>40.663147</td>\n",
       "      <td>-73.950575</td>\n",
       "      <td>-73.800659</td>\n",
       "    </tr>\n",
       "    <tr>\n",
       "      <th>3</th>\n",
       "      <td>40.778937</td>\n",
       "      <td>40.674133</td>\n",
       "      <td>-73.944002</td>\n",
       "      <td>-73.998413</td>\n",
       "    </tr>\n",
       "    <tr>\n",
       "      <th>4</th>\n",
       "      <td>40.744723</td>\n",
       "      <td>40.701599</td>\n",
       "      <td>-73.929136</td>\n",
       "      <td>-73.822632</td>\n",
       "    </tr>\n",
       "  </tbody>\n",
       "</table>\n",
       "</div>"
      ],
      "text/plain": [
       "   pred_dropoff_lat  act_dropoff_lat  pred_dropoff_long  act_dropoff_long\n",
       "0         40.836495        40.855408         -73.894847        -73.899536\n",
       "1         40.685634        40.619202         -73.961985        -74.009399\n",
       "2         40.789750        40.663147         -73.950575        -73.800659\n",
       "3         40.778937        40.674133         -73.944002        -73.998413\n",
       "4         40.744723        40.701599         -73.929136        -73.822632"
      ]
     },
     "execution_count": 19,
     "metadata": {},
     "output_type": "execute_result"
    }
   ],
   "source": [
    "actualPredictedDf['pred_dropoff_long'] =  np.interp(actualPredictedDf['pred_dropoff_long_rescaled'],[-90,90], [-180,180])\n",
    "actualPredictedDf['act_dropoff_long'] =  np.interp(actualPredictedDf['act_dropoff_long_rescaled'], [-90,90], [-180,180])\n",
    "actualPredictedDf.drop(\"pred_dropoff_long_rescaled\", inplace=True, axis=1)\n",
    "actualPredictedDf.drop(\"act_dropoff_long_rescaled\", inplace=True , axis=1)\n",
    "actualPredictedDf.head()"
   ]
  },
  {
   "cell_type": "markdown",
   "metadata": {},
   "source": [
    "#### Evaluate performance of model based on scaled back longitude data (to original range)"
   ]
  },
  {
   "cell_type": "code",
   "execution_count": 20,
   "metadata": {
    "collapsed": false
   },
   "outputs": [],
   "source": [
    "def getLatLongBasedOnGeocode(lat, longitude, accuracy = 6):\n",
    "    gh = geohash.encode(lat, longitude, accuracy)\n",
    "    ghLatLong = geohash.decode(gh)\n",
    "    return ghLatLong[0], ghLatLong[1]"
   ]
  },
  {
   "cell_type": "code",
   "execution_count": 21,
   "metadata": {
    "collapsed": false
   },
   "outputs": [
    {
     "data": {
      "text/plain": [
       "(40.74554443359375, -73.9215087890625)"
      ]
     },
     "execution_count": 21,
     "metadata": {},
     "output_type": "execute_result"
    }
   ],
   "source": [
    "getLatLongBasedOnGeocode(40.745861, -73.917152)"
   ]
  },
  {
   "cell_type": "code",
   "execution_count": 22,
   "metadata": {
    "collapsed": false
   },
   "outputs": [],
   "source": [
    "actualPredictedDf[\"pred_dropoff_lat_from_gh\"], actualPredictedDf[\"pred_dropoff_long_from_gh\"] = zip(*actualPredictedDf.apply(lambda x: getLatLongBasedOnGeocode(x['pred_dropoff_lat'], x['pred_dropoff_long'], 6), axis=1))"
   ]
  },
  {
   "cell_type": "code",
   "execution_count": 23,
   "metadata": {
    "collapsed": true
   },
   "outputs": [],
   "source": [
    "actualPredictedDf[\"act_dropoff_lat_from_gh\"], actualPredictedDf[\"act_dropoff_long_from_gh\"] = zip(*actualPredictedDf.apply(lambda x: getLatLongBasedOnGeocode(x['act_dropoff_lat'], x['act_dropoff_long'], 6), axis=1))"
   ]
  },
  {
   "cell_type": "code",
   "execution_count": 24,
   "metadata": {
    "collapsed": false
   },
   "outputs": [
    {
     "data": {
      "text/html": [
       "<div>\n",
       "<table border=\"1\" class=\"dataframe\">\n",
       "  <thead>\n",
       "    <tr style=\"text-align: right;\">\n",
       "      <th></th>\n",
       "      <th>act_dropoff_lat</th>\n",
       "      <th>act_dropoff_long</th>\n",
       "      <th>act_dropoff_lat_from_gh</th>\n",
       "      <th>act_dropoff_long_from_gh</th>\n",
       "      <th>pred_dropoff_lat</th>\n",
       "      <th>pred_dropoff_long</th>\n",
       "      <th>pred_dropoff_lat_from_gh</th>\n",
       "      <th>pred_dropoff_long_from_gh</th>\n",
       "    </tr>\n",
       "  </thead>\n",
       "  <tbody>\n",
       "    <tr>\n",
       "      <th>0</th>\n",
       "      <td>40.855408</td>\n",
       "      <td>-73.899536</td>\n",
       "      <td>40.855408</td>\n",
       "      <td>-73.899536</td>\n",
       "      <td>40.836495</td>\n",
       "      <td>-73.894847</td>\n",
       "      <td>40.838928</td>\n",
       "      <td>-73.899536</td>\n",
       "    </tr>\n",
       "    <tr>\n",
       "      <th>1</th>\n",
       "      <td>40.619202</td>\n",
       "      <td>-74.009399</td>\n",
       "      <td>40.619202</td>\n",
       "      <td>-74.009399</td>\n",
       "      <td>40.685634</td>\n",
       "      <td>-73.961985</td>\n",
       "      <td>40.685120</td>\n",
       "      <td>-73.965454</td>\n",
       "    </tr>\n",
       "    <tr>\n",
       "      <th>2</th>\n",
       "      <td>40.663147</td>\n",
       "      <td>-73.800659</td>\n",
       "      <td>40.663147</td>\n",
       "      <td>-73.800659</td>\n",
       "      <td>40.789750</td>\n",
       "      <td>-73.950575</td>\n",
       "      <td>40.789490</td>\n",
       "      <td>-73.954468</td>\n",
       "    </tr>\n",
       "    <tr>\n",
       "      <th>3</th>\n",
       "      <td>40.674133</td>\n",
       "      <td>-73.998413</td>\n",
       "      <td>40.674133</td>\n",
       "      <td>-73.998413</td>\n",
       "      <td>40.778937</td>\n",
       "      <td>-73.944002</td>\n",
       "      <td>40.778503</td>\n",
       "      <td>-73.943481</td>\n",
       "    </tr>\n",
       "    <tr>\n",
       "      <th>4</th>\n",
       "      <td>40.701599</td>\n",
       "      <td>-73.822632</td>\n",
       "      <td>40.701599</td>\n",
       "      <td>-73.822632</td>\n",
       "      <td>40.744723</td>\n",
       "      <td>-73.929136</td>\n",
       "      <td>40.745544</td>\n",
       "      <td>-73.932495</td>\n",
       "    </tr>\n",
       "  </tbody>\n",
       "</table>\n",
       "</div>"
      ],
      "text/plain": [
       "   act_dropoff_lat  act_dropoff_long  act_dropoff_lat_from_gh  act_dropoff_long_from_gh  pred_dropoff_lat  pred_dropoff_long  pred_dropoff_lat_from_gh  pred_dropoff_long_from_gh\n",
       "0        40.855408        -73.899536                40.855408                -73.899536         40.836495         -73.894847                 40.838928                 -73.899536\n",
       "1        40.619202        -74.009399                40.619202                -74.009399         40.685634         -73.961985                 40.685120                 -73.965454\n",
       "2        40.663147        -73.800659                40.663147                -73.800659         40.789750         -73.950575                 40.789490                 -73.954468\n",
       "3        40.674133        -73.998413                40.674133                -73.998413         40.778937         -73.944002                 40.778503                 -73.943481\n",
       "4        40.701599        -73.822632                40.701599                -73.822632         40.744723         -73.929136                 40.745544                 -73.932495"
      ]
     },
     "execution_count": 24,
     "metadata": {},
     "output_type": "execute_result"
    }
   ],
   "source": [
    "actualPredictedDf = actualPredictedDf[[\"act_dropoff_lat\",\"act_dropoff_long\",\"act_dropoff_lat_from_gh\",\"act_dropoff_long_from_gh\",\"pred_dropoff_lat\",\"pred_dropoff_long\",\"pred_dropoff_lat_from_gh\",\"pred_dropoff_long_from_gh\" ]]\n",
    "actualPredictedDf.head()"
   ]
  },
  {
   "cell_type": "markdown",
   "metadata": {},
   "source": [
    "##### Compute RMSE based on raw lat/long"
   ]
  },
  {
   "cell_type": "code",
   "execution_count": 25,
   "metadata": {
    "collapsed": false
   },
   "outputs": [
    {
     "name": "stdout",
     "output_type": "stream",
     "text": [
      "Raw Lat RMSE:  0.0973409971659\n",
      "Raw Long RMSE:  0.122571431775\n",
      "Lat RMSE in miles =  6.71652880444  miles\n",
      "Long RMSE in miles =  6.49628588405  miles\n"
     ]
    }
   ],
   "source": [
    "#rmse = np.sqrt(mean_squared_error(reg.predict(Xtest),ytest))\n",
    "latRMSE = np.sqrt(mean_squared_error(actualPredictedDf[\"act_dropoff_lat\"] , actualPredictedDf[\"pred_dropoff_lat\"]))\n",
    "longRMSE = np.sqrt(mean_squared_error(actualPredictedDf[\"act_dropoff_long\"] , actualPredictedDf[\"pred_dropoff_long\"]))\n",
    "print \"Raw Lat RMSE: \", latRMSE\n",
    "print \"Raw Long RMSE: \", longRMSE\n",
    "print \"Lat RMSE in miles = \",latRMSE*69,\" miles\"\n",
    "print \"Long RMSE in miles = \",longRMSE*53,\" miles\""
   ]
  },
  {
   "cell_type": "markdown",
   "metadata": {},
   "source": [
    "##### Compute RMSE based geohashed lat/long"
   ]
  },
  {
   "cell_type": "code",
   "execution_count": 26,
   "metadata": {
    "collapsed": false
   },
   "outputs": [
    {
     "name": "stdout",
     "output_type": "stream",
     "text": [
      "Lat RMSE(geohashed):  0.0973553068517\n",
      "Long RMSE(geohashed):  0.122609611492\n",
      "Lat RMSE in miles(geohashed) =  6.71751617277  miles\n",
      "Long RMSE in miles(geohashed) =  6.49830940906  miles\n"
     ]
    }
   ],
   "source": [
    "#rmse = np.sqrt(mean_squared_error(reg.predict(Xtest),ytest))\n",
    "latRMSE_GH = np.sqrt(mean_squared_error(actualPredictedDf[\"act_dropoff_lat_from_gh\"] , actualPredictedDf[\"pred_dropoff_lat_from_gh\"]))\n",
    "longRMSE_GH = np.sqrt(mean_squared_error(actualPredictedDf[\"act_dropoff_long_from_gh\"] , actualPredictedDf[\"pred_dropoff_long_from_gh\"]))\n",
    "print \"Lat RMSE(geohashed): \", latRMSE_GH\n",
    "print \"Long RMSE(geohashed): \", longRMSE_GH\n",
    "print \"Lat RMSE in miles(geohashed) = \",latRMSE_GH*69,\" miles\"\n",
    "print \"Long RMSE in miles(geohashed) = \",longRMSE_GH*53,\" miles\""
   ]
  },
  {
   "cell_type": "markdown",
   "metadata": {},
   "source": [
    "##### Compute physical distance between actual and predicted"
   ]
  },
  {
   "cell_type": "code",
   "execution_count": 27,
   "metadata": {
    "collapsed": false
   },
   "outputs": [],
   "source": [
    "#compute actual error distance\n",
    "actualPredictedDf[\"error_in_miles\"] = actualPredictedDf.apply(lambda row: vincenty((row[\"act_dropoff_lat_from_gh\"], row[\"act_dropoff_long_from_gh\"]), (row[\"pred_dropoff_lat_from_gh\"], row[\"pred_dropoff_long_from_gh\"])).miles, axis=1)\n",
    "#actualPredictedDf[[\"act_dropoff_lat\", \"act_dropoff_long\", \"pred_dropoff_lat_from_gh\", \"pred_dropoff_long_from_gh\"]].apply(lambda x: vincenty((x[\"act_dropoff_lat\"], x[1]), (x[2], x[3])).miles, axis=1)"
   ]
  },
  {
   "cell_type": "code",
   "execution_count": 28,
   "metadata": {
    "collapsed": false
   },
   "outputs": [
    {
     "name": "stdout",
     "output_type": "stream",
     "text": [
      "Avg distance error is:  4.77248220597  miles\n"
     ]
    }
   ],
   "source": [
    "avgDistanceError = actualPredictedDf[\"error_in_miles\"].mean()\n",
    "print \"Avg distance error is: \", avgDistanceError, \" miles\""
   ]
  },
  {
   "cell_type": "markdown",
   "metadata": {},
   "source": [
    "#### Analysis of errors"
   ]
  },
  {
   "cell_type": "code",
   "execution_count": 29,
   "metadata": {
    "collapsed": false
   },
   "outputs": [
    {
     "data": {
      "text/plain": [
       "<matplotlib.axes._subplots.AxesSubplot at 0x7aa53588>"
      ]
     },
     "execution_count": 29,
     "metadata": {},
     "output_type": "execute_result"
    },
    {
     "data": {
      "image/png": "[encoded data removed]",
      "text/plain": [
       "<matplotlib.figure.Figure at 0x7aa530f0>"
      ]
     },
     "metadata": {},
     "output_type": "display_data"
    }
   ],
   "source": [
    "actualPredictedDf[\"error_in_miles\"].hist(bins=1000) #, range =(0,200))"
   ]
  },
  {
   "cell_type": "code",
   "execution_count": 165,
   "metadata": {
    "collapsed": true
   },
   "outputs": [],
   "source": [
    "actualPredictedDf.to_csv(\"./tmplocaldata/final/groupbydestn/destination_prediction.csv\", index=False)"
   ]
  },
  {
   "cell_type": "markdown",
   "metadata": {},
   "source": [
    "#### Reference [link](http://geography.about.com/library/faq/blqzdistancedegree.htm)\n",
    "Each degree of latitude is approximately 69 miles (111 kilometers) apart. The range varies (due to the earth's slightly ellipsoid shape) from 68.703 miles (110.567 km) at the equator to 69.407 (111.699 km) at the poles. \n",
    "A degree of longitude is widest at the equator at 69.172 miles (111.321) and gradually shrinks to zero at the poles. At 40° north or south the distance between a degree of longitude is 53 miles (85 km)."
   ]
  },
  {
   "cell_type": "markdown",
   "metadata": {},
   "source": [
    "## Appendix"
   ]
  },
  {
   "cell_type": "markdown",
   "metadata": {},
   "source": [
    "## With sampling"
   ]
  },
  {
   "cell_type": "code",
   "execution_count": 72,
   "metadata": {
    "collapsed": false
   },
   "outputs": [
    {
     "name": "stderr",
     "output_type": "stream",
     "text": [
      "[Parallel(n_jobs=-1)]: Done   1 out of   1 | elapsed:   41.5s remaining:    0.0s\n",
      "[Parallel(n_jobs=-1)]: Done   1 out of   1 | elapsed:   41.5s finished\n",
      "[Parallel(n_jobs=1)]: Done   1 jobs       | elapsed:    2.0s\n",
      "[Parallel(n_jobs=1)]: Done   1 out of   1 | elapsed:    2.0s finished\n",
      "[Parallel(n_jobs=1)]: Done   1 jobs       | elapsed:    0.4s\n",
      "[Parallel(n_jobs=1)]: Done   1 out of   1 | elapsed:    0.4s finished\n",
      "[Parallel(n_jobs=1)]: Done   1 jobs       | elapsed:    1.9s\n",
      "[Parallel(n_jobs=1)]: Done   1 out of   1 | elapsed:    1.9s finished\n",
      "[Parallel(n_jobs=1)]: Done   1 jobs       | elapsed:    0.4s\n"
     ]
    },
    {
     "name": "stdout",
     "output_type": "stream",
     "text": [
      "building tree 1 of 1\n",
      " R^2 (train) = 0.234, R^2 (valid) = -0.057, RMSE (train) = 0.036, RMSE (valid) = 0.128"
     ]
    },
    {
     "name": "stderr",
     "output_type": "stream",
     "text": [
      "[Parallel(n_jobs=1)]: Done   1 out of   1 | elapsed:    0.4s finished\n",
      "[Parallel(n_jobs=-1)]: Done   1 out of   1 | elapsed:   41.2s remaining:    0.0s\n",
      "[Parallel(n_jobs=-1)]: Done   1 out of   1 | elapsed:   41.2s finished\n",
      "[Parallel(n_jobs=2)]: Done   1 out of   2 | elapsed:    2.0s remaining:    2.0s\n",
      "[Parallel(n_jobs=2)]: Done   2 out of   2 | elapsed:    2.0s finished\n",
      "[Parallel(n_jobs=2)]: Done   1 out of   2 | elapsed:    0.5s remaining:    0.5s\n",
      "[Parallel(n_jobs=2)]: Done   2 out of   2 | elapsed:    0.5s finished\n",
      "[Parallel(n_jobs=2)]: Done   1 out of   2 | elapsed:    2.1s remaining:    2.1s\n",
      "[Parallel(n_jobs=2)]: Done   2 out of   2 | elapsed:    2.1s finished\n",
      "[Parallel(n_jobs=2)]: Done   1 out of   2 | elapsed:    0.5s remaining:    0.5s\n",
      "[Parallel(n_jobs=2)]: Done   2 out of   2 | elapsed:    0.5s finished\n"
     ]
    },
    {
     "name": "stdout",
     "output_type": "stream",
     "text": [
      "\n",
      "building tree 1 of 1\n",
      " R^2 (train) = 0.275, R^2 (valid) = 0.016, RMSE (train) = 0.035, RMSE (valid) = 0.123"
     ]
    },
    {
     "name": "stderr",
     "output_type": "stream",
     "text": [
      "[Parallel(n_jobs=-1)]: Done   1 out of   1 | elapsed:   39.4s remaining:    0.0s\n",
      "[Parallel(n_jobs=-1)]: Done   1 out of   1 | elapsed:   39.4s finished\n",
      "[Parallel(n_jobs=3)]: Done   2 out of   3 | elapsed:    2.2s remaining:    1.1s\n",
      "[Parallel(n_jobs=3)]: Done   1 out of   3 | elapsed:    2.3s remaining:    4.7s\n",
      "[Parallel(n_jobs=3)]: Done   3 out of   3 | elapsed:    2.3s finished\n",
      "[Parallel(n_jobs=3)]: Done   1 out of   3 | elapsed:    0.5s remaining:    1.2s\n",
      "[Parallel(n_jobs=3)]: Done   2 out of   3 | elapsed:    0.5s remaining:    0.2s\n",
      "[Parallel(n_jobs=3)]: Done   3 out of   3 | elapsed:    0.6s finished\n",
      "[Parallel(n_jobs=3)]: Done   2 out of   3 | elapsed:    2.2s remaining:    1.1s\n",
      "[Parallel(n_jobs=3)]: Done   1 out of   3 | elapsed:    2.3s remaining:    4.7s\n",
      "[Parallel(n_jobs=3)]: Done   3 out of   3 | elapsed:    2.3s finished\n",
      "[Parallel(n_jobs=3)]: Done   2 out of   3 | elapsed:    0.5s remaining:    0.2s\n",
      "[Parallel(n_jobs=3)]: Done   1 out of   3 | elapsed:    0.6s remaining:    1.3s\n",
      "[Parallel(n_jobs=3)]: Done   3 out of   3 | elapsed:    0.6s finished\n"
     ]
    },
    {
     "name": "stdout",
     "output_type": "stream",
     "text": [
      "\n",
      "building tree 1 of 1\n",
      " R^2 (train) = 0.283, R^2 (valid) = 0.035, RMSE (train) = 0.035, RMSE (valid) = 0.122"
     ]
    },
    {
     "name": "stderr",
     "output_type": "stream",
     "text": [
      "[Parallel(n_jobs=-1)]: Done   1 out of   1 | elapsed:   42.0s remaining:    0.0s\n",
      "[Parallel(n_jobs=-1)]: Done   1 out of   1 | elapsed:   42.0s finished\n",
      "[Parallel(n_jobs=4)]: Done   1 out of   4 | elapsed:    2.7s remaining:    8.3s\n",
      "[Parallel(n_jobs=4)]: Done   2 out of   4 | elapsed:    2.7s remaining:    2.7s\n",
      "[Parallel(n_jobs=4)]: Done   4 out of   4 | elapsed:    2.7s finished\n",
      "[Parallel(n_jobs=4)]: Done   2 out of   4 | elapsed:    0.6s remaining:    0.6s\n",
      "[Parallel(n_jobs=4)]: Done   1 out of   4 | elapsed:    0.7s remaining:    2.3s\n",
      "[Parallel(n_jobs=4)]: Done   4 out of   4 | elapsed:    0.7s finished\n",
      "[Parallel(n_jobs=4)]: Done   2 out of   4 | elapsed:    2.5s remaining:    2.5s\n",
      "[Parallel(n_jobs=4)]: Done   1 out of   4 | elapsed:    2.6s remaining:    7.9s\n",
      "[Parallel(n_jobs=4)]: Done   4 out of   4 | elapsed:    2.6s finished\n"
     ]
    },
    {
     "name": "stdout",
     "output_type": "stream",
     "text": [
      "\n",
      "building tree 1 of 1\n",
      " R^2 (train) = 0.286, R^2 (valid) = 0.055, RMSE (train) = 0.035, RMSE (valid) = 0.121"
     ]
    },
    {
     "name": "stderr",
     "output_type": "stream",
     "text": [
      "[Parallel(n_jobs=4)]: Done   2 out of   4 | elapsed:    0.7s remaining:    0.7s\n",
      "[Parallel(n_jobs=4)]: Done   1 out of   4 | elapsed:    0.7s remaining:    2.3s\n",
      "[Parallel(n_jobs=4)]: Done   4 out of   4 | elapsed:    0.7s finished\n",
      "[Parallel(n_jobs=-1)]: Done   1 out of   1 | elapsed:   39.2s remaining:    0.0s\n",
      "[Parallel(n_jobs=-1)]: Done   1 out of   1 | elapsed:   39.2s finished\n",
      "[Parallel(n_jobs=5)]: Done   1 out of   5 | elapsed:    2.9s remaining:   11.8s\n",
      "[Parallel(n_jobs=5)]: Done   3 out of   5 | elapsed:    2.9s remaining:    1.9s\n",
      "[Parallel(n_jobs=5)]: Done   5 out of   5 | elapsed:    3.0s finished\n",
      "[Parallel(n_jobs=5)]: Done   3 out of   5 | elapsed:    0.7s remaining:    0.5s\n",
      "[Parallel(n_jobs=5)]: Done   1 out of   5 | elapsed:    0.8s remaining:    3.4s\n",
      "[Parallel(n_jobs=5)]: Done   5 out of   5 | elapsed:    0.8s finished\n",
      "[Parallel(n_jobs=5)]: Done   3 out of   5 | elapsed:    2.9s remaining:    1.9s\n",
      "[Parallel(n_jobs=5)]: Done   1 out of   5 | elapsed:    3.0s remaining:   12.3s\n",
      "[Parallel(n_jobs=5)]: Done   5 out of   5 | elapsed:    3.0s finished\n"
     ]
    },
    {
     "name": "stdout",
     "output_type": "stream",
     "text": [
      "\n",
      "building tree 1 of 1\n",
      " R^2 (train) = 0.286, R^2 (valid) = 0.068, RMSE (train) = 0.035, RMSE (valid) = 0.120"
     ]
    },
    {
     "name": "stderr",
     "output_type": "stream",
     "text": [
      "[Parallel(n_jobs=5)]: Done   3 out of   5 | elapsed:    0.7s remaining:    0.5s\n",
      "[Parallel(n_jobs=5)]: Done   1 out of   5 | elapsed:    0.7s remaining:    3.3s\n",
      "[Parallel(n_jobs=5)]: Done   5 out of   5 | elapsed:    0.7s finished\n",
      "[Parallel(n_jobs=-1)]: Done   1 out of   1 | elapsed:   41.4s remaining:    0.0s\n",
      "[Parallel(n_jobs=-1)]: Done   1 out of   1 | elapsed:   41.4s finished\n",
      "[Parallel(n_jobs=6)]: Done   2 out of   6 | elapsed:    2.8s remaining:    5.7s\n",
      "[Parallel(n_jobs=6)]: Done   4 out of   6 | elapsed:    2.9s remaining:    1.4s\n",
      "[Parallel(n_jobs=6)]: Done   1 out of   6 | elapsed:    3.0s remaining:   15.5s\n",
      "[Parallel(n_jobs=6)]: Done   6 out of   6 | elapsed:    3.1s finished\n",
      "[Parallel(n_jobs=6)]: Done   4 out of   6 | elapsed:    0.7s remaining:    0.3s\n",
      "[Parallel(n_jobs=6)]: Done   2 out of   6 | elapsed:    0.7s remaining:    1.5s\n",
      "[Parallel(n_jobs=6)]: Done   1 out of   6 | elapsed:    0.8s remaining:    4.4s\n",
      "[Parallel(n_jobs=6)]: Done   6 out of   6 | elapsed:    0.9s finished\n",
      "[Parallel(n_jobs=6)]: Done   4 out of   6 | elapsed:    2.9s remaining:    1.4s\n",
      "[Parallel(n_jobs=6)]: Done   1 out of   6 | elapsed:    3.2s remaining:   16.5s\n",
      "[Parallel(n_jobs=6)]: Done   2 out of   6 | elapsed:    3.2s remaining:    6.6s\n",
      "[Parallel(n_jobs=6)]: Done   6 out of   6 | elapsed:    3.3s finished\n",
      "[Parallel(n_jobs=6)]: Done   1 out of   6 | elapsed:    0.7s remaining:    4.0s\n",
      "[Parallel(n_jobs=6)]: Done   4 out of   6 | elapsed:    0.7s remaining:    0.3s\n",
      "[Parallel(n_jobs=6)]: Done   2 out of   6 | elapsed:    0.8s remaining:    1.7s\n",
      "[Parallel(n_jobs=6)]: Done   6 out of   6 | elapsed:    0.8s finished\n"
     ]
    },
    {
     "name": "stdout",
     "output_type": "stream",
     "text": [
      "\n",
      "building tree 1 of 1\n",
      " R^2 (train) = 0.288, R^2 (valid) = 0.068, RMSE (train) = 0.035, RMSE (valid) = 0.120"
     ]
    },
    {
     "name": "stderr",
     "output_type": "stream",
     "text": [
      "[Parallel(n_jobs=-1)]: Done   1 out of   1 | elapsed:   41.9s remaining:    0.0s\n",
      "[Parallel(n_jobs=-1)]: Done   1 out of   1 | elapsed:   41.9s finished\n",
      "[Parallel(n_jobs=7)]: Done   3 out of   7 | elapsed:    3.4s remaining:    4.6s\n",
      "[Parallel(n_jobs=7)]: Done   1 out of   7 | elapsed:    3.4s remaining:   21.2s\n",
      "[Parallel(n_jobs=7)]: Done   5 out of   7 | elapsed:    3.5s remaining:    1.3s\n",
      "[Parallel(n_jobs=7)]: Done   7 out of   7 | elapsed:    3.5s finished\n",
      "[Parallel(n_jobs=7)]: Done   3 out of   7 | elapsed:    0.8s remaining:    1.1s\n",
      "[Parallel(n_jobs=7)]: Done   5 out of   7 | elapsed:    0.9s remaining:    0.3s\n",
      "[Parallel(n_jobs=7)]: Done   1 out of   7 | elapsed:    0.9s remaining:    5.9s\n",
      "[Parallel(n_jobs=7)]: Done   7 out of   7 | elapsed:    0.9s finished\n",
      "[Parallel(n_jobs=7)]: Done   3 out of   7 | elapsed:    3.4s remaining:    4.5s\n",
      "[Parallel(n_jobs=7)]: Done   1 out of   7 | elapsed:    3.4s remaining:   20.8s\n",
      "[Parallel(n_jobs=7)]: Done   5 out of   7 | elapsed:    3.4s remaining:    1.3s\n",
      "[Parallel(n_jobs=7)]: Done   7 out of   7 | elapsed:    3.4s finished\n",
      "[Parallel(n_jobs=7)]: Done   5 out of   7 | elapsed:    0.8s remaining:    0.3s\n",
      "[Parallel(n_jobs=7)]: Done   3 out of   7 | elapsed:    0.9s remaining:    1.2s\n",
      "[Parallel(n_jobs=7)]: Done   1 out of   7 | elapsed:    0.9s remaining:    6.0s\n",
      "[Parallel(n_jobs=7)]: Done   7 out of   7 | elapsed:    0.9s finished\n"
     ]
    },
    {
     "name": "stdout",
     "output_type": "stream",
     "text": [
      "\n",
      "building tree 1 of 1\n",
      " R^2 (train) = 0.288, R^2 (valid) = 0.069, RMSE (train) = 0.035, RMSE (valid) = 0.120"
     ]
    },
    {
     "name": "stderr",
     "output_type": "stream",
     "text": [
      "[Parallel(n_jobs=-1)]: Done   1 out of   1 | elapsed:   41.5s remaining:    0.0s\n",
      "[Parallel(n_jobs=-1)]: Done   1 out of   1 | elapsed:   41.5s finished\n",
      "[Parallel(n_jobs=8)]: Done   7 out of   8 | elapsed:    3.5s remaining:    0.4s\n",
      "[Parallel(n_jobs=8)]: Done   4 out of   8 | elapsed:    3.9s remaining:    3.9s\n",
      "[Parallel(n_jobs=8)]: Done   1 out of   8 | elapsed:    4.2s remaining:   30.3s\n",
      "[Parallel(n_jobs=8)]: Done   8 out of   8 | elapsed:    4.2s finished\n",
      "[Parallel(n_jobs=8)]: Done   4 out of   8 | elapsed:    0.9s remaining:    0.9s\n",
      "[Parallel(n_jobs=8)]: Done   1 out of   8 | elapsed:    1.0s remaining:    7.5s\n",
      "[Parallel(n_jobs=8)]: Done   7 out of   8 | elapsed:    1.0s remaining:    0.1s\n",
      "[Parallel(n_jobs=8)]: Done   8 out of   8 | elapsed:    1.0s finished\n",
      "[Parallel(n_jobs=8)]: Done   4 out of   8 | elapsed:    3.5s remaining:    3.5s\n",
      "[Parallel(n_jobs=8)]: Done   1 out of   8 | elapsed:    3.9s remaining:   27.7s\n",
      "[Parallel(n_jobs=8)]: Done   7 out of   8 | elapsed:    3.9s remaining:    0.5s\n",
      "[Parallel(n_jobs=8)]: Done   8 out of   8 | elapsed:    3.9s finished\n",
      "[Parallel(n_jobs=8)]: Done   4 out of   8 | elapsed:    0.9s remaining:    0.9s\n",
      "[Parallel(n_jobs=8)]: Done   1 out of   8 | elapsed:    0.9s remaining:    7.2s\n",
      "[Parallel(n_jobs=8)]: Done   7 out of   8 | elapsed:    1.0s remaining:    0.1s\n",
      "[Parallel(n_jobs=8)]: Done   8 out of   8 | elapsed:    1.0s finished\n"
     ]
    },
    {
     "name": "stdout",
     "output_type": "stream",
     "text": [
      "\n",
      "building tree 1 of 1\n",
      " R^2 (train) = 0.289, R^2 (valid) = 0.069, RMSE (train) = 0.035, RMSE (valid) = 0.120"
     ]
    },
    {
     "name": "stderr",
     "output_type": "stream",
     "text": [
      "[Parallel(n_jobs=-1)]: Done   1 out of   1 | elapsed:   41.4s remaining:    0.0s\n",
      "[Parallel(n_jobs=-1)]: Done   1 out of   1 | elapsed:   41.4s finished\n",
      "[Parallel(n_jobs=8)]: Done   1 out of   9 | elapsed:    3.7s remaining:   30.7s\n",
      "[Parallel(n_jobs=8)]: Done   8 out of   9 | elapsed:    3.9s remaining:    0.4s\n",
      "[Parallel(n_jobs=8)]: Done   2 out of   9 | elapsed:    3.9s remaining:   13.8s\n",
      "[Parallel(n_jobs=8)]: Done   5 out of   9 | elapsed:    3.9s remaining:    3.1s\n",
      "[Parallel(n_jobs=8)]: Done   9 out of   9 | elapsed:    5.9s finished\n",
      "[Parallel(n_jobs=8)]: Done   2 out of   9 | elapsed:    1.0s remaining:    3.6s\n",
      "[Parallel(n_jobs=8)]: Done   5 out of   9 | elapsed:    1.0s remaining:    0.8s\n",
      "[Parallel(n_jobs=8)]: Done   8 out of   9 | elapsed:    1.0s remaining:    0.0s\n",
      "[Parallel(n_jobs=8)]: Done   1 out of   9 | elapsed:    1.0s remaining:    8.6s\n",
      "[Parallel(n_jobs=8)]: Done   9 out of   9 | elapsed:    1.4s finished\n",
      "[Parallel(n_jobs=8)]: Done   2 out of   9 | elapsed:    3.7s remaining:   13.1s\n",
      "[Parallel(n_jobs=8)]: Done   1 out of   9 | elapsed:    3.8s remaining:   31.1s\n",
      "[Parallel(n_jobs=8)]: Done   5 out of   9 | elapsed:    3.8s remaining:    3.0s\n",
      "[Parallel(n_jobs=8)]: Done   8 out of   9 | elapsed:    3.9s remaining:    0.4s\n",
      "[Parallel(n_jobs=8)]: Done   9 out of   9 | elapsed:    5.9s finished\n",
      "[Parallel(n_jobs=8)]: Done   2 out of   9 | elapsed:    1.0s remaining:    3.8s\n",
      "[Parallel(n_jobs=8)]: Done   5 out of   9 | elapsed:    1.0s remaining:    0.8s\n",
      "[Parallel(n_jobs=8)]: Done   1 out of   9 | elapsed:    1.2s remaining:   10.0s\n",
      "[Parallel(n_jobs=8)]: Done   8 out of   9 | elapsed:    1.2s remaining:    0.1s\n",
      "[Parallel(n_jobs=8)]: Done   9 out of   9 | elapsed:    1.7s finished\n"
     ]
    },
    {
     "name": "stdout",
     "output_type": "stream",
     "text": [
      "\n",
      "building tree 1 of 1\n",
      " R^2 (train) = 0.289, R^2 (valid) = 0.067, RMSE (train) = 0.035, RMSE (valid) = 0.120"
     ]
    },
    {
     "name": "stderr",
     "output_type": "stream",
     "text": [
      "[Parallel(n_jobs=-1)]: Done   1 out of   1 | elapsed:   41.8s remaining:    0.0s\n",
      "[Parallel(n_jobs=-1)]: Done   1 out of   1 | elapsed:   41.8s finished\n",
      "[Parallel(n_jobs=8)]: Done   6 out of  10 | elapsed:    3.9s remaining:    2.5s\n",
      "[Parallel(n_jobs=8)]: Done   1 out of  10 | elapsed:    4.0s remaining:   36.4s\n",
      "[Parallel(n_jobs=8)]: Done   3 out of  10 | elapsed:    4.2s remaining:    9.9s\n",
      "[Parallel(n_jobs=8)]: Done   9 out of  10 | elapsed:    6.0s remaining:    0.6s\n",
      "[Parallel(n_jobs=8)]: Done  10 out of  10 | elapsed:    6.2s finished\n",
      "[Parallel(n_jobs=8)]: Done   6 out of  10 | elapsed:    0.9s remaining:    0.6s\n",
      "[Parallel(n_jobs=8)]: Done   1 out of  10 | elapsed:    0.9s remaining:    9.3s\n",
      "[Parallel(n_jobs=8)]: Done   3 out of  10 | elapsed:    1.2s remaining:    3.0s\n",
      "[Parallel(n_jobs=8)]: Done   9 out of  10 | elapsed:    1.6s remaining:    0.1s\n",
      "[Parallel(n_jobs=8)]: Done  10 out of  10 | elapsed:    1.6s finished\n",
      "[Parallel(n_jobs=8)]: Done   3 out of  10 | elapsed:    3.8s remaining:    9.1s\n",
      "[Parallel(n_jobs=8)]: Done   6 out of  10 | elapsed:    4.0s remaining:    2.6s\n",
      "[Parallel(n_jobs=8)]: Done   1 out of  10 | elapsed:    4.0s remaining:   37.0s\n",
      "[Parallel(n_jobs=8)]: Done   9 out of  10 | elapsed:    6.1s remaining:    0.6s\n",
      "[Parallel(n_jobs=8)]: Done  10 out of  10 | elapsed:    6.1s finished\n",
      "[Parallel(n_jobs=8)]: Done   3 out of  10 | elapsed:    0.9s remaining:    2.3s\n",
      "[Parallel(n_jobs=8)]: Done   1 out of  10 | elapsed:    1.0s remaining:    9.8s\n",
      "[Parallel(n_jobs=8)]: Done   6 out of  10 | elapsed:    1.1s remaining:    0.7s\n",
      "[Parallel(n_jobs=8)]: Done   9 out of  10 | elapsed:    1.5s remaining:    0.1s\n",
      "[Parallel(n_jobs=8)]: Done  10 out of  10 | elapsed:    1.6s finished\n"
     ]
    },
    {
     "name": "stdout",
     "output_type": "stream",
     "text": [
      "\n",
      "building tree 1 of 1\n",
      " R^2 (train) = 0.289, R^2 (valid) = 0.065, RMSE (train) = 0.035, RMSE (valid) = 0.120"
     ]
    },
    {
     "name": "stderr",
     "output_type": "stream",
     "text": [
      "[Parallel(n_jobs=-1)]: Done   1 out of   1 | elapsed:   39.5s remaining:    0.0s\n",
      "[Parallel(n_jobs=-1)]: Done   1 out of   1 | elapsed:   39.5s finished\n",
      "[Parallel(n_jobs=8)]: Done   4 out of  11 | elapsed:    3.5s remaining:    6.1s\n",
      "[Parallel(n_jobs=8)]: Done   1 out of  11 | elapsed:    3.7s remaining:   38.4s\n",
      "[Parallel(n_jobs=8)]: Done   7 out of  11 | elapsed:    3.8s remaining:    2.1s\n",
      "[Parallel(n_jobs=8)]: Done  10 out of  11 | elapsed:    6.0s remaining:    0.5s\n",
      "[Parallel(n_jobs=8)]: Done  11 out of  11 | elapsed:    6.1s finished\n",
      "[Parallel(n_jobs=8)]: Done   4 out of  11 | elapsed:    0.9s remaining:    1.6s\n",
      "[Parallel(n_jobs=8)]: Done   7 out of  11 | elapsed:    0.9s remaining:    0.5s\n",
      "[Parallel(n_jobs=8)]: Done   1 out of  11 | elapsed:    1.0s remaining:   10.4s\n",
      "[Parallel(n_jobs=8)]: Done  10 out of  11 | elapsed:    1.6s remaining:    0.1s\n",
      "[Parallel(n_jobs=8)]: Done  11 out of  11 | elapsed:    1.6s finished\n",
      "[Parallel(n_jobs=8)]: Done   1 out of  11 | elapsed:    3.8s remaining:   39.1s\n",
      "[Parallel(n_jobs=8)]: Done   7 out of  11 | elapsed:    3.8s remaining:    2.1s\n",
      "[Parallel(n_jobs=8)]: Done   4 out of  11 | elapsed:    3.8s remaining:    6.8s\n",
      "[Parallel(n_jobs=8)]: Done  10 out of  11 | elapsed:    6.2s remaining:    0.5s\n",
      "[Parallel(n_jobs=8)]: Done  11 out of  11 | elapsed:    6.2s finished\n",
      "[Parallel(n_jobs=8)]: Done   4 out of  11 | elapsed:    0.8s remaining:    1.5s\n",
      "[Parallel(n_jobs=8)]: Done   1 out of  11 | elapsed:    0.9s remaining:   10.1s\n",
      "[Parallel(n_jobs=8)]: Done   7 out of  11 | elapsed:    1.0s remaining:    0.5s\n",
      "[Parallel(n_jobs=8)]: Done  10 out of  11 | elapsed:    1.6s remaining:    0.1s\n",
      "[Parallel(n_jobs=8)]: Done  11 out of  11 | elapsed:    1.6s finished\n"
     ]
    },
    {
     "name": "stdout",
     "output_type": "stream",
     "text": [
      "\n",
      "building tree 1 of 1\n",
      " R^2 (train) = 0.290, R^2 (valid) = 0.063, RMSE (train) = 0.035, RMSE (valid) = 0.120"
     ]
    },
    {
     "name": "stderr",
     "output_type": "stream",
     "text": [
      "[Parallel(n_jobs=-1)]: Done   1 out of   1 | elapsed:   41.4s remaining:    0.0s\n",
      "[Parallel(n_jobs=-1)]: Done   1 out of   1 | elapsed:   41.4s finished\n",
      "[Parallel(n_jobs=8)]: Done   6 out of  12 | elapsed:    3.7s remaining:    3.7s\n",
      "[Parallel(n_jobs=8)]: Done   1 out of  12 | elapsed:    3.8s remaining:   42.5s\n",
      "[Parallel(n_jobs=8)]: Done   2 out of  12 | elapsed:    3.8s remaining:   19.3s\n",
      "[Parallel(n_jobs=8)]: Done  10 out of  12 | elapsed:    6.4s remaining:    1.2s\n",
      "[Parallel(n_jobs=8)]: Done  12 out of  12 | elapsed:    6.5s finished\n",
      "[Parallel(n_jobs=8)]: Done   1 out of  12 | elapsed:    0.9s remaining:   11.2s\n",
      "[Parallel(n_jobs=8)]: Done   2 out of  12 | elapsed:    1.0s remaining:    5.2s\n",
      "[Parallel(n_jobs=8)]: Done   6 out of  12 | elapsed:    1.0s remaining:    1.0s\n",
      "[Parallel(n_jobs=8)]: Done  10 out of  12 | elapsed:    1.7s remaining:    0.3s\n",
      "[Parallel(n_jobs=8)]: Done  12 out of  12 | elapsed:    1.7s finished\n",
      "[Parallel(n_jobs=8)]: Done   6 out of  12 | elapsed:    3.6s remaining:    3.6s\n",
      "[Parallel(n_jobs=8)]: Done   2 out of  12 | elapsed:    3.8s remaining:   19.5s\n",
      "[Parallel(n_jobs=8)]: Done   1 out of  12 | elapsed:    3.9s remaining:   43.4s\n",
      "[Parallel(n_jobs=8)]: Done  10 out of  12 | elapsed:    6.4s remaining:    1.2s\n",
      "[Parallel(n_jobs=8)]: Done  12 out of  12 | elapsed:    6.5s finished\n",
      "[Parallel(n_jobs=8)]: Done   2 out of  12 | elapsed:    0.8s remaining:    4.6s\n",
      "[Parallel(n_jobs=8)]: Done   6 out of  12 | elapsed:    1.0s remaining:    1.0s\n",
      "[Parallel(n_jobs=8)]: Done   1 out of  12 | elapsed:    1.0s remaining:   12.4s\n",
      "[Parallel(n_jobs=8)]: Done  10 out of  12 | elapsed:    1.6s remaining:    0.2s\n",
      "[Parallel(n_jobs=8)]: Done  12 out of  12 | elapsed:    1.7s finished\n"
     ]
    },
    {
     "name": "stdout",
     "output_type": "stream",
     "text": [
      "\n",
      "building tree 1 of 1\n",
      " R^2 (train) = 0.290, R^2 (valid) = 0.063, RMSE (train) = 0.035, RMSE (valid) = 0.120"
     ]
    },
    {
     "name": "stderr",
     "output_type": "stream",
     "text": [
      "[Parallel(n_jobs=-1)]: Done   1 out of   1 | elapsed:   39.7s remaining:    0.0s\n",
      "[Parallel(n_jobs=-1)]: Done   1 out of   1 | elapsed:   39.7s finished\n",
      "[Parallel(n_jobs=8)]: Done   3 out of  13 | elapsed:    3.7s remaining:   12.7s\n",
      "[Parallel(n_jobs=8)]: Done   7 out of  13 | elapsed:    3.8s remaining:    3.2s\n",
      "[Parallel(n_jobs=8)]: Done   1 out of  13 | elapsed:    4.0s remaining:   48.9s\n",
      "[Parallel(n_jobs=8)]: Done  11 out of  13 | elapsed:    6.8s remaining:    1.2s\n",
      "[Parallel(n_jobs=8)]: Done  13 out of  13 | elapsed:    6.8s finished\n",
      "[Parallel(n_jobs=8)]: Done   3 out of  13 | elapsed:    0.9s remaining:    3.2s\n",
      "[Parallel(n_jobs=8)]: Done   7 out of  13 | elapsed:    1.0s remaining:    0.8s\n",
      "[Parallel(n_jobs=8)]: Done   1 out of  13 | elapsed:    1.0s remaining:   12.5s\n",
      "[Parallel(n_jobs=8)]: Done  11 out of  13 | elapsed:    1.7s remaining:    0.2s\n",
      "[Parallel(n_jobs=8)]: Done  13 out of  13 | elapsed:    1.7s finished\n",
      "[Parallel(n_jobs=8)]: Done   1 out of  13 | elapsed:    3.8s remaining:   46.4s\n",
      "[Parallel(n_jobs=8)]: Done   7 out of  13 | elapsed:    3.8s remaining:    3.3s\n",
      "[Parallel(n_jobs=8)]: Done   3 out of  13 | elapsed:    3.9s remaining:   13.1s\n",
      "[Parallel(n_jobs=8)]: Done  11 out of  13 | elapsed:    6.8s remaining:    1.2s\n",
      "[Parallel(n_jobs=8)]: Done  13 out of  13 | elapsed:    6.9s finished\n",
      "[Parallel(n_jobs=8)]: Done   3 out of  13 | elapsed:    0.9s remaining:    3.2s\n",
      "[Parallel(n_jobs=8)]: Done   7 out of  13 | elapsed:    0.9s remaining:    0.8s\n",
      "[Parallel(n_jobs=8)]: Done   1 out of  13 | elapsed:    1.0s remaining:   13.2s\n",
      "[Parallel(n_jobs=8)]: Done  11 out of  13 | elapsed:    1.7s remaining:    0.2s\n",
      "[Parallel(n_jobs=8)]: Done  13 out of  13 | elapsed:    1.8s finished\n"
     ]
    },
    {
     "name": "stdout",
     "output_type": "stream",
     "text": [
      "\n",
      "building tree 1 of 1\n",
      " R^2 (train) = 0.291, R^2 (valid) = 0.062, RMSE (train) = 0.035, RMSE (valid) = 0.120"
     ]
    },
    {
     "name": "stderr",
     "output_type": "stream",
     "text": [
      "[Parallel(n_jobs=-1)]: Done   1 out of   1 | elapsed:   39.0s remaining:    0.0s\n",
      "[Parallel(n_jobs=-1)]: Done   1 out of   1 | elapsed:   39.0s finished\n",
      "[Parallel(n_jobs=8)]: Done   4 out of  14 | elapsed:    3.7s remaining:    9.4s\n",
      "[Parallel(n_jobs=8)]: Done   8 out of  14 | elapsed:    3.8s remaining:    2.8s\n",
      "[Parallel(n_jobs=8)]: Done   1 out of  14 | elapsed:    3.8s remaining:   51.1s\n",
      "[Parallel(n_jobs=8)]: Done  12 out of  14 | elapsed:    6.9s remaining:    1.1s\n",
      "[Parallel(n_jobs=8)]: Done  14 out of  14 | elapsed:    7.0s finished\n",
      "[Parallel(n_jobs=8)]: Done   4 out of  14 | elapsed:    0.9s remaining:    2.3s\n",
      "[Parallel(n_jobs=8)]: Done   1 out of  14 | elapsed:    0.9s remaining:   13.1s\n",
      "[Parallel(n_jobs=8)]: Done   8 out of  14 | elapsed:    1.0s remaining:    0.7s\n",
      "[Parallel(n_jobs=8)]: Done  12 out of  14 | elapsed:    1.7s remaining:    0.2s\n",
      "[Parallel(n_jobs=8)]: Done  14 out of  14 | elapsed:    1.8s finished\n",
      "[Parallel(n_jobs=8)]: Done   4 out of  14 | elapsed:    3.8s remaining:    9.5s\n",
      "[Parallel(n_jobs=8)]: Done   8 out of  14 | elapsed:    3.8s remaining:    2.8s\n",
      "[Parallel(n_jobs=8)]: Done   1 out of  14 | elapsed:    3.8s remaining:   51.2s\n",
      "[Parallel(n_jobs=8)]: Done  12 out of  14 | elapsed:    6.8s remaining:    1.1s\n",
      "[Parallel(n_jobs=8)]: Done  14 out of  14 | elapsed:    7.0s finished\n",
      "[Parallel(n_jobs=8)]: Done   4 out of  14 | elapsed:    0.8s remaining:    2.2s\n",
      "[Parallel(n_jobs=8)]: Done   1 out of  14 | elapsed:    1.0s remaining:   14.0s\n",
      "[Parallel(n_jobs=8)]: Done   8 out of  14 | elapsed:    1.0s remaining:    0.8s\n",
      "[Parallel(n_jobs=8)]: Done  12 out of  14 | elapsed:    1.8s remaining:    0.2s\n",
      "[Parallel(n_jobs=8)]: Done  14 out of  14 | elapsed:    1.8s finished\n"
     ]
    },
    {
     "name": "stdout",
     "output_type": "stream",
     "text": [
      "\n",
      "building tree 1 of 1\n",
      " R^2 (train) = 0.291, R^2 (valid) = 0.063, RMSE (train) = 0.035, RMSE (valid) = 0.120"
     ]
    },
    {
     "name": "stderr",
     "output_type": "stream",
     "text": [
      "[Parallel(n_jobs=-1)]: Done   1 out of   1 | elapsed:   40.8s remaining:    0.0s\n",
      "[Parallel(n_jobs=-1)]: Done   1 out of   1 | elapsed:   40.8s finished\n",
      "[Parallel(n_jobs=8)]: Done   1 out of  15 | elapsed:    3.7s remaining:   52.7s\n",
      "[Parallel(n_jobs=8)]: Done   5 out of  15 | elapsed:    3.8s remaining:    7.6s\n",
      "[Parallel(n_jobs=8)]: Done   9 out of  15 | elapsed:    7.1s remaining:    4.7s\n",
      "[Parallel(n_jobs=8)]: Done  13 out of  15 | elapsed:    7.1s remaining:    1.0s\n",
      "[Parallel(n_jobs=8)]: Done  15 out of  15 | elapsed:    7.2s finished\n",
      "[Parallel(n_jobs=8)]: Done   5 out of  15 | elapsed:    1.0s remaining:    2.1s\n",
      "[Parallel(n_jobs=8)]: Done   1 out of  15 | elapsed:    1.0s remaining:   15.1s\n",
      "[Parallel(n_jobs=8)]: Done   9 out of  15 | elapsed:    1.8s remaining:    1.1s\n",
      "[Parallel(n_jobs=8)]: Done  13 out of  15 | elapsed:    1.9s remaining:    0.2s\n",
      "[Parallel(n_jobs=8)]: Done  15 out of  15 | elapsed:    1.9s finished\n",
      "[Parallel(n_jobs=8)]: Done   1 out of  15 | elapsed:    3.8s remaining:   54.4s\n",
      "[Parallel(n_jobs=8)]: Done   5 out of  15 | elapsed:    3.9s remaining:    7.9s\n",
      "[Parallel(n_jobs=8)]: Done  13 out of  15 | elapsed:    7.3s remaining:    1.0s\n",
      "[Parallel(n_jobs=8)]: Done   9 out of  15 | elapsed:    7.3s remaining:    4.9s\n",
      "[Parallel(n_jobs=8)]: Done  15 out of  15 | elapsed:    7.4s finished\n",
      "[Parallel(n_jobs=8)]: Done   5 out of  15 | elapsed:    1.0s remaining:    2.2s\n",
      "[Parallel(n_jobs=8)]: Done   1 out of  15 | elapsed:    1.1s remaining:   16.1s\n",
      "[Parallel(n_jobs=8)]: Done   9 out of  15 | elapsed:    1.8s remaining:    1.2s\n",
      "[Parallel(n_jobs=8)]: Done  13 out of  15 | elapsed:    1.9s remaining:    0.2s\n",
      "[Parallel(n_jobs=8)]: Done  15 out of  15 | elapsed:    1.9s finished\n"
     ]
    },
    {
     "name": "stdout",
     "output_type": "stream",
     "text": [
      "\n",
      "building tree 1 of 1\n",
      " R^2 (train) = 0.291, R^2 (valid) = 0.063, RMSE (train) = 0.035, RMSE (valid) = 0.120"
     ]
    },
    {
     "name": "stderr",
     "output_type": "stream",
     "text": [
      "[Parallel(n_jobs=-1)]: Done   1 out of   1 | elapsed:   41.1s remaining:    0.0s\n",
      "[Parallel(n_jobs=-1)]: Done   1 out of   1 | elapsed:   41.1s finished\n",
      "[Parallel(n_jobs=8)]: Done   8 out of  16 | elapsed:    3.8s remaining:    3.8s\n",
      "[Parallel(n_jobs=8)]: Done   1 out of  16 | elapsed:    3.9s remaining:  1.0min\n",
      "[Parallel(n_jobs=8)]: Done   3 out of  16 | elapsed:    4.1s remaining:   18.1s\n",
      "[Parallel(n_jobs=8)]: Done  13 out of  16 | elapsed:    7.5s remaining:    1.6s\n",
      "[Parallel(n_jobs=8)]: Done  16 out of  16 | elapsed:    7.5s finished\n",
      "[Parallel(n_jobs=8)]: Done   3 out of  16 | elapsed:    1.0s remaining:    4.6s\n",
      "[Parallel(n_jobs=8)]: Done   1 out of  16 | elapsed:    1.0s remaining:   16.1s\n",
      "[Parallel(n_jobs=8)]: Done   8 out of  16 | elapsed:    1.0s remaining:    1.0s\n",
      "[Parallel(n_jobs=8)]: Done  13 out of  16 | elapsed:    1.9s remaining:    0.4s\n",
      "[Parallel(n_jobs=8)]: Done  16 out of  16 | elapsed:    2.0s finished\n",
      "[Parallel(n_jobs=8)]: Done   3 out of  16 | elapsed:    3.7s remaining:   16.6s\n",
      "[Parallel(n_jobs=8)]: Done   8 out of  16 | elapsed:    3.8s remaining:    3.8s\n",
      "[Parallel(n_jobs=8)]: Done   1 out of  16 | elapsed:    3.9s remaining:   59.2s\n",
      "[Parallel(n_jobs=8)]: Done  13 out of  16 | elapsed:    7.4s remaining:    1.6s\n",
      "[Parallel(n_jobs=8)]: Done  16 out of  16 | elapsed:    7.5s finished\n",
      "[Parallel(n_jobs=8)]: Done   1 out of  16 | elapsed:    0.9s remaining:   15.1s\n",
      "[Parallel(n_jobs=8)]: Done   3 out of  16 | elapsed:    0.9s remaining:    4.4s\n",
      "[Parallel(n_jobs=8)]: Done   8 out of  16 | elapsed:    1.1s remaining:    1.1s\n",
      "[Parallel(n_jobs=8)]: Done  13 out of  16 | elapsed:    1.9s remaining:    0.4s\n",
      "[Parallel(n_jobs=8)]: Done  16 out of  16 | elapsed:    1.9s finished\n"
     ]
    },
    {
     "name": "stdout",
     "output_type": "stream",
     "text": [
      "\n",
      "building tree 1 of 1\n",
      " R^2 (train) = 0.291, R^2 (valid) = 0.065, RMSE (train) = 0.035, RMSE (valid) = 0.120"
     ]
    },
    {
     "name": "stderr",
     "output_type": "stream",
     "text": [
      "[Parallel(n_jobs=-1)]: Done   1 out of   1 | elapsed:   39.4s remaining:    0.0s\n",
      "[Parallel(n_jobs=-1)]: Done   1 out of   1 | elapsed:   39.4s finished\n",
      "[Parallel(n_jobs=8)]: Done   4 out of  17 | elapsed:    3.5s remaining:   11.7s\n",
      "[Parallel(n_jobs=8)]: Done   1 out of  17 | elapsed:    3.8s remaining:  1.0min\n",
      "[Parallel(n_jobs=8)]: Done   9 out of  17 | elapsed:    7.1s remaining:    6.3s\n",
      "[Parallel(n_jobs=8)]: Done  14 out of  17 | elapsed:    7.5s remaining:    1.5s\n",
      "[Parallel(n_jobs=8)]: Done  17 out of  17 | elapsed:    9.3s finished\n",
      "[Parallel(n_jobs=8)]: Done   4 out of  17 | elapsed:    0.8s remaining:    2.8s\n",
      "[Parallel(n_jobs=8)]: Done   1 out of  17 | elapsed:    1.0s remaining:   18.2s\n",
      "[Parallel(n_jobs=8)]: Done   9 out of  17 | elapsed:    1.8s remaining:    1.6s\n",
      "[Parallel(n_jobs=8)]: Done  14 out of  17 | elapsed:    1.9s remaining:    0.3s\n",
      "[Parallel(n_jobs=8)]: Done  17 out of  17 | elapsed:    2.4s finished\n",
      "[Parallel(n_jobs=8)]: Done   4 out of  17 | elapsed:    3.6s remaining:   11.8s\n",
      "[Parallel(n_jobs=8)]: Done   1 out of  17 | elapsed:    3.7s remaining:  1.0min\n",
      "[Parallel(n_jobs=8)]: Done   9 out of  17 | elapsed:    7.1s remaining:    6.3s\n",
      "[Parallel(n_jobs=8)]: Done  14 out of  17 | elapsed:    7.6s remaining:    1.5s\n",
      "[Parallel(n_jobs=8)]: Done  17 out of  17 | elapsed:    9.3s finished\n",
      "[Parallel(n_jobs=8)]: Done   4 out of  17 | elapsed:    0.9s remaining:    3.1s\n",
      "[Parallel(n_jobs=8)]: Done   1 out of  17 | elapsed:    1.2s remaining:   20.1s\n",
      "[Parallel(n_jobs=8)]: Done   9 out of  17 | elapsed:    1.8s remaining:    1.6s\n",
      "[Parallel(n_jobs=8)]: Done  14 out of  17 | elapsed:    2.1s remaining:    0.4s\n",
      "[Parallel(n_jobs=8)]: Done  17 out of  17 | elapsed:    2.4s finished\n"
     ]
    },
    {
     "name": "stdout",
     "output_type": "stream",
     "text": [
      "\n",
      "building tree 1 of 1\n",
      " R^2 (train) = 0.291, R^2 (valid) = 0.065, RMSE (train) = 0.035, RMSE (valid) = 0.120"
     ]
    },
    {
     "name": "stderr",
     "output_type": "stream",
     "text": [
      "[Parallel(n_jobs=-1)]: Done   1 out of   1 | elapsed:   39.1s remaining:    0.0s\n",
      "[Parallel(n_jobs=-1)]: Done   1 out of   1 | elapsed:   39.1s finished\n",
      "[Parallel(n_jobs=8)]: Done   1 out of  18 | elapsed:    3.9s remaining:  1.1min\n",
      "[Parallel(n_jobs=8)]: Done   5 out of  18 | elapsed:    4.0s remaining:   10.7s\n",
      "[Parallel(n_jobs=8)]: Done  10 out of  18 | elapsed:    7.6s remaining:    6.1s\n",
      "[Parallel(n_jobs=8)]: Done  15 out of  18 | elapsed:    7.9s remaining:    1.5s\n",
      "[Parallel(n_jobs=8)]: Done  18 out of  18 | elapsed:    9.8s finished\n",
      "[Parallel(n_jobs=8)]: Done   1 out of  18 | elapsed:    0.9s remaining:   16.8s\n",
      "[Parallel(n_jobs=8)]: Done   5 out of  18 | elapsed:    1.0s remaining:    2.7s\n",
      "[Parallel(n_jobs=8)]: Done  10 out of  18 | elapsed:    1.9s remaining:    1.5s\n",
      "[Parallel(n_jobs=8)]: Done  15 out of  18 | elapsed:    2.0s remaining:    0.3s\n",
      "[Parallel(n_jobs=8)]: Done  18 out of  18 | elapsed:    2.5s finished\n",
      "[Parallel(n_jobs=8)]: Done   5 out of  18 | elapsed:    3.9s remaining:   10.2s\n",
      "[Parallel(n_jobs=8)]: Done   1 out of  18 | elapsed:    3.9s remaining:  1.1min\n",
      "[Parallel(n_jobs=8)]: Done  10 out of  18 | elapsed:    7.5s remaining:    6.0s\n",
      "[Parallel(n_jobs=8)]: Done  15 out of  18 | elapsed:    7.9s remaining:    1.5s\n",
      "[Parallel(n_jobs=8)]: Done  18 out of  18 | elapsed:    9.8s finished\n",
      "[Parallel(n_jobs=8)]: Done   1 out of  18 | elapsed:    1.1s remaining:   19.8s\n",
      "[Parallel(n_jobs=8)]: Done   5 out of  18 | elapsed:    1.1s remaining:    2.9s\n",
      "[Parallel(n_jobs=8)]: Done  10 out of  18 | elapsed:    2.1s remaining:    1.6s\n",
      "[Parallel(n_jobs=8)]: Done  15 out of  18 | elapsed:    2.1s remaining:    0.3s\n",
      "[Parallel(n_jobs=8)]: Done  18 out of  18 | elapsed:    2.7s finished\n"
     ]
    },
    {
     "name": "stdout",
     "output_type": "stream",
     "text": [
      "\n",
      "building tree 1 of 1\n",
      " R^2 (train) = 0.291, R^2 (valid) = 0.065, RMSE (train) = 0.035, RMSE (valid) = 0.120"
     ]
    },
    {
     "name": "stderr",
     "output_type": "stream",
     "text": [
      "[Parallel(n_jobs=-1)]: Done   1 out of   1 | elapsed:   40.1s remaining:    0.0s\n",
      "[Parallel(n_jobs=-1)]: Done   1 out of   1 | elapsed:   40.1s finished\n",
      "[Parallel(n_jobs=8)]: Done   6 out of  19 | elapsed:    3.9s remaining:    8.6s\n",
      "[Parallel(n_jobs=8)]: Done   1 out of  19 | elapsed:    3.9s remaining:  1.2min\n",
      "[Parallel(n_jobs=8)]: Done  11 out of  19 | elapsed:    7.5s remaining:    5.5s\n",
      "[Parallel(n_jobs=8)]: Done  16 out of  19 | elapsed:    8.0s remaining:    1.4s\n",
      "[Parallel(n_jobs=8)]: Done  19 out of  19 | elapsed:   10.3s finished\n",
      "[Parallel(n_jobs=8)]: Done   6 out of  19 | elapsed:    1.1s remaining:    2.4s\n",
      "[Parallel(n_jobs=8)]: Done   1 out of  19 | elapsed:    1.1s remaining:   20.9s\n",
      "[Parallel(n_jobs=8)]: Done  11 out of  19 | elapsed:    2.1s remaining:    1.5s\n",
      "[Parallel(n_jobs=8)]: Done  16 out of  19 | elapsed:    2.3s remaining:    0.3s\n",
      "[Parallel(n_jobs=8)]: Done  19 out of  19 | elapsed:    2.8s finished\n",
      "[Parallel(n_jobs=8)]: Done   6 out of  19 | elapsed:    3.8s remaining:    8.4s\n",
      "[Parallel(n_jobs=8)]: Done   1 out of  19 | elapsed:    3.9s remaining:  1.2min\n",
      "[Parallel(n_jobs=8)]: Done  11 out of  19 | elapsed:    7.9s remaining:    5.8s\n",
      "[Parallel(n_jobs=8)]: Done  16 out of  19 | elapsed:    8.3s remaining:    1.5s\n",
      "[Parallel(n_jobs=8)]: Done  19 out of  19 | elapsed:   10.5s finished\n",
      "[Parallel(n_jobs=8)]: Done   1 out of  19 | elapsed:    0.9s remaining:   18.7s\n",
      "[Parallel(n_jobs=8)]: Done   6 out of  19 | elapsed:    1.1s remaining:    2.6s\n",
      "[Parallel(n_jobs=8)]: Done  11 out of  19 | elapsed:    2.2s remaining:    1.5s\n",
      "[Parallel(n_jobs=8)]: Done  16 out of  19 | elapsed:    2.3s remaining:    0.3s\n",
      "[Parallel(n_jobs=8)]: Done  19 out of  19 | elapsed:    2.8s finished\n"
     ]
    },
    {
     "name": "stdout",
     "output_type": "stream",
     "text": [
      "\n",
      "building tree 1 of 1\n",
      " R^2 (train) = 0.291, R^2 (valid) = 0.062, RMSE (train) = 0.035, RMSE (valid) = 0.120\n"
     ]
    }
   ],
   "source": [
    "reg = RandomForestRegressor(n_estimators=1, max_depth=20, n_jobs=-1, verbose=4, warm_start=True)\n",
    "for n in range(1,20):\n",
    "   reg.set_params(n_estimators=n)\n",
    "   reg.fit(X_train,y_train) #, sample_weight=pickup_count_train.values)\n",
    "   training_accuracy = reg.score(X_train, y_train)\n",
    "   valid_accuracy = reg.score(X_test, y_test)\n",
    "   rmsetrain = np.sqrt(mean_squared_error(reg.predict(X_train),y_train))\n",
    "   rmsevalid = np.sqrt(mean_squared_error(reg.predict(X_test),y_test))\n",
    "   print \" R^2 (train) = %0.3f, R^2 (valid) = %0.3f, RMSE (train) = %0.3f, RMSE (valid) = %0.3f\" % (training_accuracy, valid_accuracy, rmsetrain, rmsevalid)"
   ]
  },
  {
   "cell_type": "code",
   "execution_count": 63,
   "metadata": {
    "collapsed": false
   },
   "outputs": [
    {
     "name": "stdout",
     "output_type": "stream",
     "text": [
      "RMSE=  0.118465757808\n"
     ]
    }
   ],
   "source": [
    "#With weighted sampling: 20 estimators, 20 depth\n",
    "print \"RMSE= \",np.sqrt(mean_squared_error(best.predict(X_test),y_test))"
   ]
  },
  {
   "cell_type": "markdown",
   "metadata": {},
   "source": [
    "## Without sampling"
   ]
  },
  {
   "cell_type": "code",
   "execution_count": 68,
   "metadata": {
    "collapsed": false
   },
   "outputs": [
    {
     "name": "stdout",
     "output_type": "stream",
     "text": [
      "Fitting 2 folds for each of 1 candidates, totalling 2 fits\n",
      "[CV] max_features=auto, n_estimators=20, max_depth=20 ................\n",
      "[CV]  max_features=auto, n_estimators=20, max_depth=20, score=0.133406 - 3.3min\n",
      "[CV] max_features=auto, n_estimators=20, max_depth=20 ................\n",
      "[CV]  max_features=auto, n_estimators=20, max_depth=20, score=0.138348 - 3.2min"
     ]
    },
    {
     "name": "stderr",
     "output_type": "stream",
     "text": [
      "[Parallel(n_jobs=1)]: Done   1 jobs       | elapsed:  3.3min\n",
      "[Parallel(n_jobs=1)]: Done   2 out of   2 | elapsed:  6.5min finished\n"
     ]
    },
    {
     "name": "stdout",
     "output_type": "stream",
     "text": [
      "\n",
      "BEST {'max_features': 'auto', 'n_estimators': 20, 'max_depth': 20} 0.13587711428 [mean: 0.13588, std: 0.00247, params: {'max_features': 'auto', 'n_estimators': 20, 'max_depth': 20}] <function _passthrough_scorer at 0x00000000204DB7B8>\n",
      "Best score:  0.13587711428\n",
      "Wall time: 13min 30s\n"
     ]
    }
   ],
   "source": [
    "%%time\n",
    "# Define a grid of parameters over which to optimize the random forest\n",
    "# We will figure out which number of trees is optimal\n",
    "parameters = {\"n_estimators\": [20],\n",
    "              \"max_features\": [\"auto\"], # [\"auto\",\"sqrt\",\"log2\"]\n",
    "              \"max_depth\": [20]}\n",
    "best = cv_optimize(estimator, parameters, X_train, y_train, n_folds=2, verbose=3)\n",
    "#best = cv_optimize(estimator, parameters, X_train, y_train, n_folds=2, score_func='mean_squared_error', verbose=3)"
   ]
  },
  {
   "cell_type": "code",
   "execution_count": 69,
   "metadata": {
    "collapsed": false
   },
   "outputs": [
    {
     "name": "stdout",
     "output_type": "stream",
     "text": [
      "RMSE=  0.111710488577\n"
     ]
    }
   ],
   "source": [
    "#Without weighted sampling: 20 estimators, 20 depth\n",
    "print \"RMSE= \",np.sqrt(mean_squared_error(best.predict(X_test),y_test))"
   ]
  },
  {
   "cell_type": "markdown",
   "metadata": {},
   "source": [
    "## Backup"
   ]
  },
  {
   "cell_type": "markdown",
   "metadata": {},
   "source": [
    "### Outcome\n",
    "\n",
    "The best RMSE value that we got was 0.120. In NYC each longitude is approx 53 miles & latitude is approx 69 miles (see reference below). This gives an **error range of 6.36 x 8.28 square miles**. So we do not have a great predictor here (but a great learning experience in modeling this problem)\n",
    "\n",
    "note: 1. We have not standardized lat & long in same scale - ideally this shd be done part of data prep. This would have given us a RMSE that we can apply properly to find exact error in distance."
   ]
  },
  {
   "cell_type": "code",
   "execution_count": null,
   "metadata": {
    "collapsed": true
   },
   "outputs": [],
   "source": []
  }
 ],
 "metadata": {
  "kernelspec": {
   "display_name": "Python 2",
   "language": "python",
   "name": "python2"
  },
  "language_info": {
   "codemirror_mode": {
    "name": "ipython",
    "version": 2
   },
   "file_extension": ".py",
   "mimetype": "text/x-python",
   "name": "python",
   "nbconvert_exporter": "python",
   "pygments_lexer": "ipython2",
   "version": "2.7.10"
  }
 },
 "nbformat": 4,
 "nbformat_minor": 0
}
