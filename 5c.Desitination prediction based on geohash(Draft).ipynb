{
 "cells": [
  {
   "cell_type": "code",
   "execution_count": 1,
   "metadata": {
    "collapsed": true
   },
   "outputs": [],
   "source": [
    "%matplotlib inline\n",
    "\n",
    "import numpy as np\n",
    "import scipy as sp\n",
    "import matplotlib as mpl\n",
    "import matplotlib.cm as cm\n",
    "import matplotlib.pyplot as plt\n",
    "import pandas as pd\n",
    "pd.set_option('display.width', 500)\n",
    "pd.set_option('display.max_columns', 100)\n",
    "pd.set_option('display.notebook_repr_html', True)\n",
    "import seaborn as sns\n",
    "sns.set_style(\"whitegrid\")\n",
    "sns.set_context(\"poster\")\n",
    "from sklearn.grid_search import GridSearchCV\n",
    "from sklearn.cross_validation import train_test_split\n",
    "from sklearn.metrics import confusion_matrix\n",
    "from sklearn.ensemble import RandomForestRegressor\n",
    "from sklearn.pipeline import Pipeline\n",
    "from sklearn.cross_validation import cross_val_score\n",
    "import geohash\n",
    "from sklearn.metrics import mean_squared_error\n",
    "import random\n",
    "import math\n",
    "import datetime\n",
    "import geopy as gp\n",
    "from geopy.distance import vincenty"
   ]
  },
  {
   "cell_type": "code",
   "execution_count": 2,
   "metadata": {
    "collapsed": false
   },
   "outputs": [
    {
     "name": "stdout",
     "output_type": "stream",
     "text": [
      "Wall time: 30.6 s\n"
     ]
    }
   ],
   "source": [
    "%time df=pd.read_csv(\"./tmplocaldata/final/groupbydestn/pickup_dropoff_aggregated_with_feat_ext.csv\")"
   ]
  },
  {
   "cell_type": "code",
   "execution_count": 3,
   "metadata": {
    "collapsed": true
   },
   "outputs": [],
   "source": [
    "def getLatLongBasedOnGeocode(lat, longitude, accuracy = 6):\n",
    "    gh = geohash.encode(lat, longitude, accuracy)\n",
    "    ghLatLong = geohash.decode(gh)\n",
    "    return ghLatLong[0], ghLatLong[1]"
   ]
  },
  {
   "cell_type": "code",
   "execution_count": 4,
   "metadata": {
    "collapsed": false
   },
   "outputs": [
    {
     "data": {
      "text/html": [
       "<div>\n",
       "<table border=\"1\" class=\"dataframe\">\n",
       "  <thead>\n",
       "    <tr style=\"text-align: right;\">\n",
       "      <th></th>\n",
       "      <th>pickup_geohash</th>\n",
       "      <th>dropoff_geohash</th>\n",
       "      <th>time_num</th>\n",
       "      <th>day_of_week</th>\n",
       "      <th>count</th>\n",
       "      <th>time_sin</th>\n",
       "      <th>time_cos</th>\n",
       "      <th>pickup_lat</th>\n",
       "      <th>pickup_long</th>\n",
       "      <th>dropoff_lat</th>\n",
       "      <th>dropoff_long</th>\n",
       "    </tr>\n",
       "  </thead>\n",
       "  <tbody>\n",
       "    <tr>\n",
       "      <th>0</th>\n",
       "      <td>dr5rtk</td>\n",
       "      <td>dr5rsj</td>\n",
       "      <td>0.416667</td>\n",
       "      <td>4</td>\n",
       "      <td>2</td>\n",
       "      <td>0.500000</td>\n",
       "      <td>-0.866025</td>\n",
       "      <td>40.718079</td>\n",
       "      <td>-73.943481</td>\n",
       "      <td>40.723572</td>\n",
       "      <td>-73.998413</td>\n",
       "    </tr>\n",
       "    <tr>\n",
       "      <th>1</th>\n",
       "      <td>dr5x0z</td>\n",
       "      <td>dr5xcf</td>\n",
       "      <td>0.683333</td>\n",
       "      <td>0</td>\n",
       "      <td>2</td>\n",
       "      <td>-0.913545</td>\n",
       "      <td>-0.406737</td>\n",
       "      <td>40.646667</td>\n",
       "      <td>-73.789673</td>\n",
       "      <td>40.751038</td>\n",
       "      <td>-73.745728</td>\n",
       "    </tr>\n",
       "    <tr>\n",
       "      <th>2</th>\n",
       "      <td>dr72rd</td>\n",
       "      <td>dr782h</td>\n",
       "      <td>0.650000</td>\n",
       "      <td>3</td>\n",
       "      <td>2</td>\n",
       "      <td>-0.809017</td>\n",
       "      <td>-0.587785</td>\n",
       "      <td>40.838928</td>\n",
       "      <td>-73.844604</td>\n",
       "      <td>40.849915</td>\n",
       "      <td>-73.822632</td>\n",
       "    </tr>\n",
       "    <tr>\n",
       "      <th>3</th>\n",
       "      <td>dr5rvn</td>\n",
       "      <td>dr5rt5</td>\n",
       "      <td>0.083333</td>\n",
       "      <td>2</td>\n",
       "      <td>11</td>\n",
       "      <td>0.500000</td>\n",
       "      <td>0.866025</td>\n",
       "      <td>40.773010</td>\n",
       "      <td>-73.954468</td>\n",
       "      <td>40.712585</td>\n",
       "      <td>-73.954468</td>\n",
       "    </tr>\n",
       "    <tr>\n",
       "      <th>4</th>\n",
       "      <td>dr72jd</td>\n",
       "      <td>dr72m3</td>\n",
       "      <td>0.050000</td>\n",
       "      <td>0</td>\n",
       "      <td>3</td>\n",
       "      <td>0.309017</td>\n",
       "      <td>0.951057</td>\n",
       "      <td>40.794983</td>\n",
       "      <td>-73.932495</td>\n",
       "      <td>40.833435</td>\n",
       "      <td>-73.943481</td>\n",
       "    </tr>\n",
       "  </tbody>\n",
       "</table>\n",
       "</div>"
      ],
      "text/plain": [
       "  pickup_geohash dropoff_geohash  time_num  day_of_week  count  time_sin  time_cos  pickup_lat  pickup_long  dropoff_lat  dropoff_long\n",
       "0         dr5rtk          dr5rsj  0.416667            4      2  0.500000 -0.866025   40.718079   -73.943481    40.723572    -73.998413\n",
       "1         dr5x0z          dr5xcf  0.683333            0      2 -0.913545 -0.406737   40.646667   -73.789673    40.751038    -73.745728\n",
       "2         dr72rd          dr782h  0.650000            3      2 -0.809017 -0.587785   40.838928   -73.844604    40.849915    -73.822632\n",
       "3         dr5rvn          dr5rt5  0.083333            2     11  0.500000  0.866025   40.773010   -73.954468    40.712585    -73.954468\n",
       "4         dr72jd          dr72m3  0.050000            0      3  0.309017  0.951057   40.794983   -73.932495    40.833435    -73.943481"
      ]
     },
     "execution_count": 4,
     "metadata": {},
     "output_type": "execute_result"
    }
   ],
   "source": [
    "df.head()"
   ]
  },
  {
   "cell_type": "code",
   "execution_count": 7,
   "metadata": {
    "collapsed": false
   },
   "outputs": [],
   "source": [
    "df[\"pickup_lat_from_gh\"], df[\"pickup_long_from_gh\"] = zip(*df.apply(lambda x: geohash.decode(x[\"pickup_geohash\"]), axis=1))\n",
    "df[\"dropoff_lat_from_gh\"], df[\"dropoff_long_from_gh\"] = zip(*df.apply(lambda x: geohash.decode(x[\"dropoff_geohash\"]), axis=1))"
   ]
  },
  {
   "cell_type": "code",
   "execution_count": 8,
   "metadata": {
    "collapsed": false
   },
   "outputs": [
    {
     "data": {
      "text/html": [
       "<div>\n",
       "<table border=\"1\" class=\"dataframe\">\n",
       "  <thead>\n",
       "    <tr style=\"text-align: right;\">\n",
       "      <th></th>\n",
       "      <th>pickup_geohash</th>\n",
       "      <th>dropoff_geohash</th>\n",
       "      <th>time_num</th>\n",
       "      <th>day_of_week</th>\n",
       "      <th>count</th>\n",
       "      <th>time_sin</th>\n",
       "      <th>time_cos</th>\n",
       "      <th>pickup_lat</th>\n",
       "      <th>pickup_long</th>\n",
       "      <th>dropoff_lat</th>\n",
       "      <th>dropoff_long</th>\n",
       "      <th>pickup_lat_from_gh</th>\n",
       "      <th>pickup_long_from_gh</th>\n",
       "      <th>dropoff_lat_from_gh</th>\n",
       "      <th>dropoff_long_from_gh</th>\n",
       "    </tr>\n",
       "  </thead>\n",
       "  <tbody>\n",
       "    <tr>\n",
       "      <th>0</th>\n",
       "      <td>dr5rtk</td>\n",
       "      <td>dr5rsj</td>\n",
       "      <td>0.416667</td>\n",
       "      <td>4</td>\n",
       "      <td>2</td>\n",
       "      <td>0.500000</td>\n",
       "      <td>-0.866025</td>\n",
       "      <td>40.718079</td>\n",
       "      <td>-73.943481</td>\n",
       "      <td>40.723572</td>\n",
       "      <td>-73.998413</td>\n",
       "      <td>40.718079</td>\n",
       "      <td>-73.943481</td>\n",
       "      <td>40.723572</td>\n",
       "      <td>-73.998413</td>\n",
       "    </tr>\n",
       "    <tr>\n",
       "      <th>1</th>\n",
       "      <td>dr5x0z</td>\n",
       "      <td>dr5xcf</td>\n",
       "      <td>0.683333</td>\n",
       "      <td>0</td>\n",
       "      <td>2</td>\n",
       "      <td>-0.913545</td>\n",
       "      <td>-0.406737</td>\n",
       "      <td>40.646667</td>\n",
       "      <td>-73.789673</td>\n",
       "      <td>40.751038</td>\n",
       "      <td>-73.745728</td>\n",
       "      <td>40.646667</td>\n",
       "      <td>-73.789673</td>\n",
       "      <td>40.751038</td>\n",
       "      <td>-73.745728</td>\n",
       "    </tr>\n",
       "    <tr>\n",
       "      <th>2</th>\n",
       "      <td>dr72rd</td>\n",
       "      <td>dr782h</td>\n",
       "      <td>0.650000</td>\n",
       "      <td>3</td>\n",
       "      <td>2</td>\n",
       "      <td>-0.809017</td>\n",
       "      <td>-0.587785</td>\n",
       "      <td>40.838928</td>\n",
       "      <td>-73.844604</td>\n",
       "      <td>40.849915</td>\n",
       "      <td>-73.822632</td>\n",
       "      <td>40.838928</td>\n",
       "      <td>-73.844604</td>\n",
       "      <td>40.849915</td>\n",
       "      <td>-73.822632</td>\n",
       "    </tr>\n",
       "    <tr>\n",
       "      <th>3</th>\n",
       "      <td>dr5rvn</td>\n",
       "      <td>dr5rt5</td>\n",
       "      <td>0.083333</td>\n",
       "      <td>2</td>\n",
       "      <td>11</td>\n",
       "      <td>0.500000</td>\n",
       "      <td>0.866025</td>\n",
       "      <td>40.773010</td>\n",
       "      <td>-73.954468</td>\n",
       "      <td>40.712585</td>\n",
       "      <td>-73.954468</td>\n",
       "      <td>40.773010</td>\n",
       "      <td>-73.954468</td>\n",
       "      <td>40.712585</td>\n",
       "      <td>-73.954468</td>\n",
       "    </tr>\n",
       "    <tr>\n",
       "      <th>4</th>\n",
       "      <td>dr72jd</td>\n",
       "      <td>dr72m3</td>\n",
       "      <td>0.050000</td>\n",
       "      <td>0</td>\n",
       "      <td>3</td>\n",
       "      <td>0.309017</td>\n",
       "      <td>0.951057</td>\n",
       "      <td>40.794983</td>\n",
       "      <td>-73.932495</td>\n",
       "      <td>40.833435</td>\n",
       "      <td>-73.943481</td>\n",
       "      <td>40.794983</td>\n",
       "      <td>-73.932495</td>\n",
       "      <td>40.833435</td>\n",
       "      <td>-73.943481</td>\n",
       "    </tr>\n",
       "  </tbody>\n",
       "</table>\n",
       "</div>"
      ],
      "text/plain": [
       "  pickup_geohash dropoff_geohash  time_num  day_of_week  count  time_sin  time_cos  pickup_lat  pickup_long  dropoff_lat  dropoff_long  pickup_lat_from_gh  pickup_long_from_gh  dropoff_lat_from_gh  dropoff_long_from_gh\n",
       "0         dr5rtk          dr5rsj  0.416667            4      2  0.500000 -0.866025   40.718079   -73.943481    40.723572    -73.998413           40.718079           -73.943481            40.723572            -73.998413\n",
       "1         dr5x0z          dr5xcf  0.683333            0      2 -0.913545 -0.406737   40.646667   -73.789673    40.751038    -73.745728           40.646667           -73.789673            40.751038            -73.745728\n",
       "2         dr72rd          dr782h  0.650000            3      2 -0.809017 -0.587785   40.838928   -73.844604    40.849915    -73.822632           40.838928           -73.844604            40.849915            -73.822632\n",
       "3         dr5rvn          dr5rt5  0.083333            2     11  0.500000  0.866025   40.773010   -73.954468    40.712585    -73.954468           40.773010           -73.954468            40.712585            -73.954468\n",
       "4         dr72jd          dr72m3  0.050000            0      3  0.309017  0.951057   40.794983   -73.932495    40.833435    -73.943481           40.794983           -73.932495            40.833435            -73.943481"
      ]
     },
     "execution_count": 8,
     "metadata": {},
     "output_type": "execute_result"
    }
   ],
   "source": [
    "df.head()"
   ]
  },
  {
   "cell_type": "code",
   "execution_count": 9,
   "metadata": {
    "collapsed": true
   },
   "outputs": [],
   "source": [
    "X = df[['time_num', 'time_sin', 'time_cos','day_of_week', 'pickup_lat_from_gh', 'pickup_long_from_gh']]\n",
    "y = df[['dropoff_lat_from_gh', 'dropoff_long_from_gh']]\n",
    "\n",
    "X_train, X_test, y_train, y_test = train_test_split(X, y, test_size=0.33, random_state=42)"
   ]
  },
  {
   "cell_type": "code",
   "execution_count": 10,
   "metadata": {
    "collapsed": true
   },
   "outputs": [],
   "source": [
    "# Funtion for cross-validation over a grid of parameters\n",
    "\n",
    "def cv_optimize(clf, parameters, X, y, n_jobs=1, n_folds=5, score_func=None, verbose=0):\n",
    "    if score_func:\n",
    "        gs = GridSearchCV(clf, param_grid=parameters, cv=n_folds, n_jobs=n_jobs, scoring=score_func, verbose=verbose)\n",
    "    else:\n",
    "        gs = GridSearchCV(clf, param_grid=parameters, n_jobs=n_jobs, cv=n_folds, verbose=verbose)\n",
    "    gs.fit(X, y)\n",
    "    print \"BEST\", gs.best_params_, gs.best_score_, gs.grid_scores_, gs.scorer_\n",
    "    print \"Best score: \", gs.best_score_\n",
    "    best = gs.best_estimator_\n",
    "    return best"
   ]
  },
  {
   "cell_type": "code",
   "execution_count": 11,
   "metadata": {
    "collapsed": true
   },
   "outputs": [],
   "source": [
    "estimator = RandomForestRegressor(n_estimators=20, n_jobs=-1)"
   ]
  },
  {
   "cell_type": "code",
   "execution_count": 12,
   "metadata": {
    "collapsed": false
   },
   "outputs": [
    {
     "name": "stdout",
     "output_type": "stream",
     "text": [
      "Fitting 5 folds for each of 1 candidates, totalling 5 fits\n",
      "[CV] max_features=auto, n_estimators=20, max_depth=20 ................\n",
      "[CV] ....... max_features=auto, n_estimators=20, max_depth=20 - 3.9min\n",
      "[CV] max_features=auto, n_estimators=20, max_depth=20 ................\n",
      "[CV] ....... max_features=auto, n_estimators=20, max_depth=20 - 3.9min\n",
      "[CV] max_features=auto, n_estimators=20, max_depth=20 ................\n",
      "[CV] ....... max_features=auto, n_estimators=20, max_depth=20 - 3.9min\n",
      "[CV] max_features=auto, n_estimators=20, max_depth=20 ................\n",
      "[CV] ....... max_features=auto, n_estimators=20, max_depth=20 - 3.9min\n",
      "[CV] max_features=auto, n_estimators=20, max_depth=20 ................\n",
      "[CV] ....... max_features=auto, n_estimators=20, max_depth=20 - 3.9min"
     ]
    },
    {
     "name": "stderr",
     "output_type": "stream",
     "text": [
      "[Parallel(n_jobs=1)]: Done   1 jobs       | elapsed:  3.9min\n",
      "[Parallel(n_jobs=1)]: Done   5 out of   5 | elapsed: 19.4min finished\n"
     ]
    },
    {
     "name": "stdout",
     "output_type": "stream",
     "text": [
      "\n",
      "BEST {'max_features': 'auto', 'n_estimators': 20, 'max_depth': 20} 0.141270390462 [mean: 0.14127, std: 0.01244, params: {'max_features': 'auto', 'n_estimators': 20, 'max_depth': 20}] <function _passthrough_scorer at 0x00000000204EC7B8>\n",
      "Best score:  0.141270390462\n",
      "RMSE=  0.114326475401\n",
      "Wall time: 24min 13s\n"
     ]
    }
   ],
   "source": [
    "%%time\n",
    "\n",
    "# Define a grid of parameters over which to optimize the random forest\n",
    "# We will figure out which number of trees is optimal\n",
    "parameters = {\"n_estimators\": [20],\n",
    "              \"max_features\": [\"auto\"], # [\"auto\",\"sqrt\",\"log2\"]\n",
    "              \"max_depth\": [20]}\n",
    "best = cv_optimize(estimator, parameters, X_train, y_train, n_folds=5, verbose=2)\n",
    "#best = cv_optimize(estimator, parameters, X_train, y_train, n_folds=2, score_func='mean_squared_error', verbose=3)\n",
    "print \"RMSE= \",np.sqrt(mean_squared_error(best.predict(X_test),y_test))"
   ]
  },
  {
   "cell_type": "code",
   "execution_count": null,
   "metadata": {
    "collapsed": true
   },
   "outputs": [],
   "source": [
    "actualPredictedDf = pd.DataFrame(np.hstack((best.predict(X_test), y_test.values)),columns=[\"pred_dropoff_lat_from_gh\", \"pred_dropoff_long_from_gh\", \"act_dropoff_lat_from_gh\", \"act_dropoff_long_from_gh\"])\n",
    "actualPredictedDf.head()"
   ]
  }
 ],
 "metadata": {
  "kernelspec": {
   "display_name": "Python 2",
   "language": "python",
   "name": "python2"
  },
  "language_info": {
   "codemirror_mode": {
    "name": "ipython",
    "version": 2
   },
   "file_extension": ".py",
   "mimetype": "text/x-python",
   "name": "python",
   "nbconvert_exporter": "python",
   "pygments_lexer": "ipython2",
   "version": "2.7.10"
  }
 },
 "nbformat": 4,
 "nbformat_minor": 0
}
