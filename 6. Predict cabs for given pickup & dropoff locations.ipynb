{
 "cells": [
  {
   "cell_type": "code",
   "execution_count": 1,
   "metadata": {
    "collapsed": true
   },
   "outputs": [],
   "source": [
    "%matplotlib inline\n",
    "\n",
    "import numpy as np\n",
    "import scipy as sp\n",
    "import matplotlib as mpl\n",
    "import matplotlib.cm as cm\n",
    "import matplotlib.pyplot as plt\n",
    "import pandas as pd\n",
    "pd.set_option('display.width', 500)\n",
    "pd.set_option('display.max_columns', 100)\n",
    "pd.set_option('display.notebook_repr_html', True)\n",
    "import seaborn as sns\n",
    "sns.set_style(\"whitegrid\")\n",
    "sns.set_context(\"poster\")\n",
    "from sklearn.grid_search import GridSearchCV\n",
    "from sklearn.cross_validation import train_test_split\n",
    "from sklearn.metrics import confusion_matrix\n",
    "from sklearn.ensemble import RandomForestRegressor\n",
    "from sklearn.pipeline import Pipeline\n",
    "from sklearn.cross_validation import cross_val_score\n",
    "import geohash\n",
    "from sklearn.metrics import mean_squared_error\n",
    "import random\n",
    "import math\n",
    "import datetime\n"
   ]
  },
  {
   "cell_type": "code",
   "execution_count": 2,
   "metadata": {
    "collapsed": false
   },
   "outputs": [
    {
     "name": "stdout",
     "output_type": "stream",
     "text": [
      "Wall time: 24.3 s\n"
     ]
    }
   ],
   "source": [
    "%time df=pd.read_csv(\"./tmplocaldata/final/groupbydestn/pickup_dropoff_aggregated_with_feat_ext.csv\")"
   ]
  },
  {
   "cell_type": "code",
   "execution_count": 3,
   "metadata": {
    "collapsed": false
   },
   "outputs": [
    {
     "data": {
      "text/html": [
       "<div>\n",
       "<table border=\"1\" class=\"dataframe\">\n",
       "  <thead>\n",
       "    <tr style=\"text-align: right;\">\n",
       "      <th></th>\n",
       "      <th>pickup_geohash</th>\n",
       "      <th>dropoff_geohash</th>\n",
       "      <th>time_num</th>\n",
       "      <th>day_of_week</th>\n",
       "      <th>count</th>\n",
       "      <th>time_sin</th>\n",
       "      <th>time_cos</th>\n",
       "      <th>pickup_lat</th>\n",
       "      <th>pickup_long</th>\n",
       "      <th>dropoff_lat</th>\n",
       "      <th>dropoff_long</th>\n",
       "    </tr>\n",
       "  </thead>\n",
       "  <tbody>\n",
       "    <tr>\n",
       "      <th>0</th>\n",
       "      <td>dr5rtk</td>\n",
       "      <td>dr5rsj</td>\n",
       "      <td>0.416667</td>\n",
       "      <td>4</td>\n",
       "      <td>2</td>\n",
       "      <td>0.500000</td>\n",
       "      <td>-0.866025</td>\n",
       "      <td>40.718079</td>\n",
       "      <td>-73.943481</td>\n",
       "      <td>40.723572</td>\n",
       "      <td>-73.998413</td>\n",
       "    </tr>\n",
       "    <tr>\n",
       "      <th>1</th>\n",
       "      <td>dr5x0z</td>\n",
       "      <td>dr5xcf</td>\n",
       "      <td>0.683333</td>\n",
       "      <td>0</td>\n",
       "      <td>2</td>\n",
       "      <td>-0.913545</td>\n",
       "      <td>-0.406737</td>\n",
       "      <td>40.646667</td>\n",
       "      <td>-73.789673</td>\n",
       "      <td>40.751038</td>\n",
       "      <td>-73.745728</td>\n",
       "    </tr>\n",
       "    <tr>\n",
       "      <th>2</th>\n",
       "      <td>dr72rd</td>\n",
       "      <td>dr782h</td>\n",
       "      <td>0.650000</td>\n",
       "      <td>3</td>\n",
       "      <td>2</td>\n",
       "      <td>-0.809017</td>\n",
       "      <td>-0.587785</td>\n",
       "      <td>40.838928</td>\n",
       "      <td>-73.844604</td>\n",
       "      <td>40.849915</td>\n",
       "      <td>-73.822632</td>\n",
       "    </tr>\n",
       "    <tr>\n",
       "      <th>3</th>\n",
       "      <td>dr5rvn</td>\n",
       "      <td>dr5rt5</td>\n",
       "      <td>0.083333</td>\n",
       "      <td>2</td>\n",
       "      <td>11</td>\n",
       "      <td>0.500000</td>\n",
       "      <td>0.866025</td>\n",
       "      <td>40.773010</td>\n",
       "      <td>-73.954468</td>\n",
       "      <td>40.712585</td>\n",
       "      <td>-73.954468</td>\n",
       "    </tr>\n",
       "    <tr>\n",
       "      <th>4</th>\n",
       "      <td>dr72jd</td>\n",
       "      <td>dr72m3</td>\n",
       "      <td>0.050000</td>\n",
       "      <td>0</td>\n",
       "      <td>3</td>\n",
       "      <td>0.309017</td>\n",
       "      <td>0.951057</td>\n",
       "      <td>40.794983</td>\n",
       "      <td>-73.932495</td>\n",
       "      <td>40.833435</td>\n",
       "      <td>-73.943481</td>\n",
       "    </tr>\n",
       "  </tbody>\n",
       "</table>\n",
       "</div>"
      ],
      "text/plain": [
       "  pickup_geohash dropoff_geohash  time_num  day_of_week  count  time_sin  time_cos  pickup_lat  pickup_long  dropoff_lat  dropoff_long\n",
       "0         dr5rtk          dr5rsj  0.416667            4      2  0.500000 -0.866025   40.718079   -73.943481    40.723572    -73.998413\n",
       "1         dr5x0z          dr5xcf  0.683333            0      2 -0.913545 -0.406737   40.646667   -73.789673    40.751038    -73.745728\n",
       "2         dr72rd          dr782h  0.650000            3      2 -0.809017 -0.587785   40.838928   -73.844604    40.849915    -73.822632\n",
       "3         dr5rvn          dr5rt5  0.083333            2     11  0.500000  0.866025   40.773010   -73.954468    40.712585    -73.954468\n",
       "4         dr72jd          dr72m3  0.050000            0      3  0.309017  0.951057   40.794983   -73.932495    40.833435    -73.943481"
      ]
     },
     "execution_count": 3,
     "metadata": {},
     "output_type": "execute_result"
    }
   ],
   "source": [
    "df.head()"
   ]
  },
  {
   "cell_type": "code",
   "execution_count": 19,
   "metadata": {
    "collapsed": true
   },
   "outputs": [],
   "source": [
    "df['log_count'] = np.log10(df['count']+1)"
   ]
  },
  {
   "cell_type": "code",
   "execution_count": 20,
   "metadata": {
    "collapsed": true
   },
   "outputs": [],
   "source": [
    "trainSet, testSet = train_test_split(df, train_size=0.8, random_state=56)\n",
    "del df"
   ]
  },
  {
   "cell_type": "code",
   "execution_count": 21,
   "metadata": {
    "collapsed": false
   },
   "outputs": [],
   "source": [
    "X_train = trainSet[['time_num', 'time_sin', 'time_cos','day_of_week', 'pickup_lat', 'pickup_long', 'dropoff_lat', 'dropoff_long']]\n",
    "#y_train = trainSet['count']\n",
    "y_train = trainSet['log_count']\n",
    "\n",
    "X_test = testSet[['time_num', 'time_sin', 'time_cos','day_of_week', 'pickup_lat', 'pickup_long', 'dropoff_lat', 'dropoff_long']]\n",
    "#y_test = testSet['count']\n",
    "y_test = testSet['log_count']\n",
    "\n",
    "del trainSet\n",
    "del testSet"
   ]
  },
  {
   "cell_type": "markdown",
   "metadata": {},
   "source": [
    "## Machine learning"
   ]
  },
  {
   "cell_type": "code",
   "execution_count": 22,
   "metadata": {
    "collapsed": true
   },
   "outputs": [],
   "source": [
    "# Funtion for cross-validation over a grid of parameters\n",
    "\n",
    "def cv_optimize(clf, parameters, X, y, n_jobs=1, n_folds=5, score_func=None, verbose=0):\n",
    "    if score_func:\n",
    "        gs = GridSearchCV(clf, param_grid=parameters, cv=n_folds, n_jobs=n_jobs, scoring=score_func, verbose=verbose)\n",
    "    else:\n",
    "        gs = GridSearchCV(clf, param_grid=parameters, n_jobs=n_jobs, cv=n_folds, verbose=verbose)\n",
    "    gs.fit(X, y)\n",
    "    print \"BEST\", gs.best_params_, gs.best_score_, gs.grid_scores_, gs.scorer_\n",
    "    print \"Best score: \", gs.best_score_\n",
    "    best = gs.best_estimator_\n",
    "    return best"
   ]
  },
  {
   "cell_type": "code",
   "execution_count": 23,
   "metadata": {
    "collapsed": true
   },
   "outputs": [],
   "source": [
    "estimator = RandomForestRegressor(n_estimators=20, n_jobs=-1)"
   ]
  },
  {
   "cell_type": "code",
   "execution_count": 24,
   "metadata": {
    "collapsed": false
   },
   "outputs": [
    {
     "name": "stdout",
     "output_type": "stream",
     "text": [
      "Fitting 2 folds for each of 1 candidates, totalling 2 fits\n",
      "[CV] max_features=auto, n_estimators=10, max_depth=10 ................\n",
      "[CV]  max_features=auto, n_estimators=10, max_depth=10, score=0.521999 - 1.4min\n",
      "[CV] max_features=auto, n_estimators=10, max_depth=10 ................\n",
      "[CV]  max_features=auto, n_estimators=10, max_depth=10, score=0.523095 - 1.3min"
     ]
    },
    {
     "name": "stderr",
     "output_type": "stream",
     "text": [
      "[Parallel(n_jobs=1)]: Done   1 jobs       | elapsed:  1.4min\n",
      "[Parallel(n_jobs=1)]: Done   2 out of   2 | elapsed:  2.7min finished\n"
     ]
    },
    {
     "name": "stdout",
     "output_type": "stream",
     "text": [
      "\n",
      "BEST {'max_features': 'auto', 'n_estimators': 10, 'max_depth': 10} 0.522546899444 [mean: 0.52255, std: 0.00055, params: {'max_features': 'auto', 'n_estimators': 10, 'max_depth': 10}] <function _passthrough_scorer at 0x000000001F0327B8>\n",
      "Best score:  0.522546899444\n",
      "Wall time: 5min 15s\n"
     ]
    }
   ],
   "source": [
    "%%time\n",
    "# Define a grid of parameters over which to optimize the random forest\n",
    "# We will figure out which number of trees is optimal\n",
    "parameters = {\"n_estimators\": [10],\n",
    "              \"max_features\": [\"auto\"], # [\"auto\",\"sqrt\",\"log2\"]\n",
    "              \"max_depth\": [10]}\n",
    "best = cv_optimize(estimator, parameters, X_train, y_train, n_folds=2, verbose=3)\n",
    "#best = cv_optimize(estimator, parameters, X_train, y_train, n_folds=2, score_func='mean_squared_error', verbose=3)"
   ]
  },
  {
   "cell_type": "code",
   "execution_count": 25,
   "metadata": {
    "collapsed": false
   },
   "outputs": [
    {
     "name": "stdout",
     "output_type": "stream",
     "text": [
      "RMSE = 0.388 (this is in log-space!)\n",
      "RMSE in real scale: 2.44\n",
      "Wall time: 1.16 s\n"
     ]
    }
   ],
   "source": [
    "%%time\n",
    "rmse = np.sqrt(mean_squared_error(best.predict(X_test),y_test))\n",
    "print \"RMSE = %0.3f (this is in log-space!)\" % rmse\n",
    "print \"RMSE in real scale: %0.2f\" % np.power(10,rmse)"
   ]
  },
  {
   "cell_type": "markdown",
   "metadata": {},
   "source": [
    "## Evaluate the results"
   ]
  },
  {
   "cell_type": "code",
   "execution_count": 30,
   "metadata": {
    "collapsed": false
   },
   "outputs": [
    {
     "name": "stdout",
     "output_type": "stream",
     "text": [
      "############# based on standard predict ################\n",
      "R^2 on training data: 0.5206\n",
      "R^2 on test data:     0.5207\n",
      "Wall time: 2min 37s\n"
     ]
    }
   ],
   "source": [
    "%%time\n",
    "\n",
    "# Fit the best Random Forest and calculate R^2 values for training and test sets\n",
    "\n",
    "reg=best.fit(X_train, y_train)\n",
    "training_accuracy = reg.score(X_train, y_train)\n",
    "test_accuracy = reg.score(X_test, y_test)\n",
    "print \"############# based on standard predict ################\"\n",
    "print \"R^2 on training data: %0.4f\" % (training_accuracy)\n",
    "print \"R^2 on test data:     %0.4f\" % (test_accuracy)"
   ]
  },
  {
   "cell_type": "code",
   "execution_count": 34,
   "metadata": {
    "collapsed": false
   },
   "outputs": [
    {
     "data": {
      "text/plain": [
       "array([[  6,  12],\n",
       "       [  8,   1],\n",
       "       [  4, 708],\n",
       "       ..., \n",
       "       [  4,   7],\n",
       "       [ 52, 327],\n",
       "       [ 69, 714]])"
      ]
     },
     "execution_count": 34,
     "metadata": {},
     "output_type": "execute_result"
    }
   ],
   "source": [
    "# Show some of the predictions vs. the real number of pickups\n",
    "# predictions vs. real number of pickups\n",
    "np.round(np.power(10,np.column_stack((reg.predict(X_test),y_test))) - 1,decimals=0).astype(int)"
   ]
  },
  {
   "cell_type": "code",
   "execution_count": 32,
   "metadata": {
    "collapsed": false
   },
   "outputs": [
    {
     "name": "stdout",
     "output_type": "stream",
     "text": [
      "RMSE = 0.388 (this is in log-space!)\n",
      "So two thirds of the records would be a factor of less than 2.44 away from the real value.\n"
     ]
    }
   ],
   "source": [
    "# Calculate the Root Mean Squared Error\n",
    "rmse = np.sqrt(mean_squared_error(reg.predict(X_test),y_test))\n",
    "print \"RMSE = %0.3f (this is in log-space!)\" % rmse\n",
    "print \"So two thirds of the records would be a factor of less than %0.2f away from the real value.\" % np.power(10,rmse)"
   ]
  },
  {
   "cell_type": "markdown",
   "metadata": {},
   "source": [
    "## Appendix"
   ]
  },
  {
   "cell_type": "code",
   "execution_count": 14,
   "metadata": {
    "collapsed": false
   },
   "outputs": [
    {
     "data": {
      "text/plain": [
       "[('dropoff_long', 0.30408825024272568),\n",
       " ('pickup_long', 0.23172967883312015),\n",
       " ('dropoff_lat', 0.22555554859312843),\n",
       " ('pickup_lat', 0.21258320917845941),\n",
       " ('time_cos', 0.019245191836231027),\n",
       " ('time_num', 0.0046247418564218839),\n",
       " ('time_sin', 0.0014808130062024325),\n",
       " ('day_of_week', 0.00069256645371093648)]"
      ]
     },
     "execution_count": 14,
     "metadata": {},
     "output_type": "execute_result"
    }
   ],
   "source": [
    "import operator\n",
    "dict_feat_imp = dict(zip(list(X_train.columns.values),best.feature_importances_))\n",
    "\n",
    "sorted_features = sorted(dict_feat_imp.items(), key=operator.itemgetter(1), reverse=True)\n",
    "sorted_features"
   ]
  },
  {
   "cell_type": "code",
   "execution_count": 11,
   "metadata": {
    "collapsed": false
   },
   "outputs": [
    {
     "name": "stdout",
     "output_type": "stream",
     "text": [
      "RMSE=  66.189331534\n",
      "Wall time: 6.21 s\n"
     ]
    }
   ],
   "source": [
    "# numbers in normal scale\n",
    "%%time\n",
    "print \"RMSE= \",np.sqrt(mean_squared_error(best.predict(X_test),y_test))"
   ]
  },
  {
   "cell_type": "code",
   "execution_count": 8,
   "metadata": {
    "collapsed": true
   },
   "outputs": [],
   "source": [
    "# Latitude  range from -90 to +90\n",
    "# Longitide  range from -180 to +180\n",
    "def remap(oldValue, oldMin, oldMax, newMin, newMax):\n",
    "    oldRange = (oldMax - oldMin)\n",
    "    newRange = (newMax - newMin)\n",
    "    newValue = (((oldValue - oldMin) * newRange) / oldRange) + newMin\n",
    "    return newValue\n",
    "\n"
   ]
  },
  {
   "cell_type": "markdown",
   "metadata": {},
   "source": [
    "## Test remapping values from one range to another"
   ]
  },
  {
   "cell_type": "code",
   "execution_count": 14,
   "metadata": {
    "collapsed": false
   },
   "outputs": [
    {
     "name": "stdout",
     "output_type": "stream",
     "text": [
      "-36.9717405\n",
      "-73.943481\n"
     ]
    },
    {
     "data": {
      "text/plain": [
       "0.0"
      ]
     },
     "execution_count": 14,
     "metadata": {},
     "output_type": "execute_result"
    }
   ],
   "source": [
    "#test\n",
    "# lat:40.718079, long: -73.943481\n",
    "originalLong = -73.943481\n",
    "rescaledLong = remap(-73.943481, -180, 180, -90,90)\n",
    "print rescaledLong\n",
    "scaledbackLong = remap(rescaledLong, -90,90, -180, 180)\n",
    "print scaledbackLong\n",
    "originalLong- scaledbackLong"
   ]
  },
  {
   "cell_type": "code",
   "execution_count": 18,
   "metadata": {
    "collapsed": false
   },
   "outputs": [
    {
     "name": "stdout",
     "output_type": "stream",
     "text": [
      "-73.943481\n"
     ]
    },
    {
     "data": {
      "text/plain": [
       "0.0"
      ]
     },
     "execution_count": 18,
     "metadata": {},
     "output_type": "execute_result"
    }
   ],
   "source": [
    "originalLong = -73.943481\n",
    "rescaledLong = np.interp(originalLong, [-180,180], [-90,90])\n",
    "scaledbackLong = np.interp(rescaledLong, [-90,90], [-180,180])\n",
    "print scaledbackLong\n",
    "originalLong- scaledbackLong"
   ]
  },
  {
   "cell_type": "code",
   "execution_count": null,
   "metadata": {
    "collapsed": true
   },
   "outputs": [],
   "source": []
  }
 ],
 "metadata": {
  "kernelspec": {
   "display_name": "Python 2",
   "language": "python",
   "name": "python2"
  },
  "language_info": {
   "codemirror_mode": {
    "name": "ipython",
    "version": 2
   },
   "file_extension": ".py",
   "mimetype": "text/x-python",
   "name": "python",
   "nbconvert_exporter": "python",
   "pygments_lexer": "ipython2",
   "version": "2.7.10"
  }
 },
 "nbformat": 4,
 "nbformat_minor": 0
}
